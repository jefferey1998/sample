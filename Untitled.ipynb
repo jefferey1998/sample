{
 "cells": [
  {
   "cell_type": "code",
   "execution_count": 1,
   "id": "8808f788",
   "metadata": {},
   "outputs": [],
   "source": [
    "import numpy as np\n",
    "import pandas as pd\n",
    "import matplotlib.pyplot as plt\n",
    "from scipy.interpolate import interp1d\n"
   ]
  },
  {
   "cell_type": "code",
   "execution_count": 2,
   "id": "46bcab49",
   "metadata": {},
   "outputs": [],
   "source": [
    "x1=np.array([[1,2,3],[4,5,6]],float) # 2 by 3\n",
    "y1=np.array([[1,2],[3,3],[4,5]],float) # 3 by 2"
   ]
  },
  {
   "cell_type": "code",
   "execution_count": 4,
   "id": "14f4c8e2",
   "metadata": {},
   "outputs": [
    {
     "data": {
      "text/plain": [
       "array([[19., 23.],\n",
       "       [43., 53.]])"
      ]
     },
     "execution_count": 4,
     "metadata": {},
     "output_type": "execute_result"
    }
   ],
   "source": [
    "np.dot(x1,y1)"
   ]
  },
  {
   "cell_type": "code",
   "execution_count": 5,
   "id": "08f293dc",
   "metadata": {},
   "outputs": [],
   "source": [
    "A=np.mat('[1 2 5; 2 5 1; 2 3 8]')\n",
    "b = np.mat('[10;8;5]')"
   ]
  },
  {
   "cell_type": "code",
   "execution_count": 6,
   "id": "384b823e",
   "metadata": {},
   "outputs": [
    {
     "name": "stdout",
     "output_type": "stream",
     "text": [
      "A.I*b=\n",
      " [[-22.45]\n",
      " [ 10.09]\n",
      " [  2.45]]\n"
     ]
    }
   ],
   "source": [
    "print ('A.I*b=\\n', np.round(A.I*b, decimals=2))"
   ]
  },
  {
   "cell_type": "code",
   "execution_count": 7,
   "id": "bb524a27",
   "metadata": {},
   "outputs": [
    {
     "name": "stdout",
     "output_type": "stream",
     "text": [
      "[[-22.45]\n",
      " [ 10.09]\n",
      " [  2.45]]\n"
     ]
    }
   ],
   "source": [
    "print (np.round(np.linalg.solve(A,b), decimals=2))"
   ]
  },
  {
   "cell_type": "code",
   "execution_count": 8,
   "id": "bcd56da0",
   "metadata": {},
   "outputs": [],
   "source": [
    "x = np.linspace(0, 10, 10)\n",
    "y = np.exp(-x/3.0)"
   ]
  },
  {
   "cell_type": "code",
   "execution_count": 9,
   "id": "065e33e7",
   "metadata": {},
   "outputs": [
    {
     "data": {
      "text/plain": [
       "array([1.        , 0.69047855, 0.47676063, 0.32919299, 0.2273007 ,\n",
       "       0.15694626, 0.10836802, 0.0748258 , 0.05166561, 0.03567399])"
      ]
     },
     "execution_count": 9,
     "metadata": {},
     "output_type": "execute_result"
    }
   ],
   "source": [
    "y"
   ]
  },
  {
   "cell_type": "code",
   "execution_count": 10,
   "id": "0cc7b713",
   "metadata": {},
   "outputs": [
    {
     "data": {
      "text/plain": [
       "array([ 0.        ,  1.11111111,  2.22222222,  3.33333333,  4.44444444,\n",
       "        5.55555556,  6.66666667,  7.77777778,  8.88888889, 10.        ])"
      ]
     },
     "execution_count": 10,
     "metadata": {},
     "output_type": "execute_result"
    }
   ],
   "source": [
    "x"
   ]
  },
  {
   "cell_type": "code",
   "execution_count": 13,
   "id": "7cbd47c0",
   "metadata": {},
   "outputs": [
    {
     "data": {
      "text/plain": [
       "<matplotlib.legend.Legend at 0x21a74d20310>"
      ]
     },
     "execution_count": 13,
     "metadata": {},
     "output_type": "execute_result"
    },
    {
     "data": {
      "image/png": "[encoded data removed]",
      "text/plain": [
       "<Figure size 432x288 with 1 Axes>"
      ]
     },
     "metadata": {
      "needs_background": "light"
     },
     "output_type": "display_data"
    }
   ],
   "source": [
    "f = interp1d(x, y)\n",
    "f2 = interp1d(x, y, kind='cubic')\n",
    "xnew = np.linspace(0, 10, 40)\n",
    "plt.plot(x,y,'o',xnew,f(xnew),'-', xnew, f2(xnew),'--')\n",
    "plt.legend(['data', 'linear', 'cubic'], loc='best')\n"
   ]
  },
  {
   "cell_type": "code",
   "execution_count": 14,
   "id": "e764eb16",
   "metadata": {},
   "outputs": [
    {
     "name": "stdout",
     "output_type": "stream",
     "text": [
      "Optimization terminated successfully.\n",
      "         Current function value: 3.000000\n",
      "         Iterations: 20\n",
      "         Function evaluations: 40\n"
     ]
    },
    {
     "data": {
      "text/plain": [
       "array([0.])"
      ]
     },
     "execution_count": 14,
     "metadata": {},
     "output_type": "execute_result"
    }
   ],
   "source": [
    "import scipy.optimize as optimize \n",
    "def my_f(x):\n",
    "    return 3 + x**2\n",
    "optimize.fmin(my_f,5)"
   ]
  },
  {
   "cell_type": "code",
   "execution_count": 16,
   "id": "17da63ce",
   "metadata": {},
   "outputs": [],
   "source": [
    "import yfinance as yf\n",
    "import datetime as dt\n",
    "import pandas as pd"
   ]
  },
  {
   "cell_type": "code",
   "execution_count": 17,
   "id": "e09b901e",
   "metadata": {},
   "outputs": [],
   "source": [
    "pd.set_option('display.max_rows', 500)\n"
   ]
  },
  {
   "cell_type": "code",
   "execution_count": 18,
   "id": "42d66e18",
   "metadata": {},
   "outputs": [],
   "source": [
    "import datetime as dt"
   ]
  },
  {
   "cell_type": "code",
   "execution_count": 23,
   "id": "485c446f",
   "metadata": {},
   "outputs": [
    {
     "ename": "SyntaxError",
     "evalue": "EOL while scanning string literal (Temp/ipykernel_46196/3280961663.py, line 1)",
     "output_type": "error",
     "traceback": [
      "\u001b[1;36m  File \u001b[1;32m\"C:\\Users\\Heking\\AppData\\Local\\Temp/ipykernel_46196/3280961663.py\"\u001b[1;36m, line \u001b[1;32m1\u001b[0m\n\u001b[1;33m    dt.datetime.today().strftime('%Y-%m-%d-%h-%m\u001b[0m\n\u001b[1;37m                                                ^\u001b[0m\n\u001b[1;31mSyntaxError\u001b[0m\u001b[1;31m:\u001b[0m EOL while scanning string literal\n"
     ]
    }
   ],
   "source": [
    " dt.datetime.today().strftime('%Y-%m-%d-%h-%m\n",
    "                              ')"
   ]
  },
  {
   "cell_type": "code",
   "execution_count": 24,
   "id": "345f2db7",
   "metadata": {},
   "outputs": [],
   "source": [
    "import sqlite3\n"
   ]
  },
  {
   "cell_type": "code",
   "execution_count": 2,
   "id": "ac747aa6",
   "metadata": {},
   "outputs": [],
   "source": [
    "a={\"a\":[1,2],\"b\":[1,2,3]}\n",
    "a[\"c\"]=[]"
   ]
  },
  {
   "cell_type": "code",
   "execution_count": 7,
   "id": "1f79ec42",
   "metadata": {},
   "outputs": [
    {
     "name": "stdout",
     "output_type": "stream",
     "text": [
      "a\n",
      "[1, 2]\n",
      "b\n",
      "[1, 2, 3]\n",
      "c\n",
      "[]\n"
     ]
    }
   ],
   "source": [
    "for i,j in a.items():\n",
    "    print(i)\n",
    "    print(j)"
   ]
  },
  {
   "cell_type": "code",
   "execution_count": 13,
   "id": "d303ea8d",
   "metadata": {},
   "outputs": [
    {
     "data": {
      "text/plain": [
       "array([[ 1.66666667, -2.33333333],\n",
       "       [-2.33333333,  9.66666667]])"
      ]
     },
     "execution_count": 13,
     "metadata": {},
     "output_type": "execute_result"
    }
   ],
   "source": [
    "a=np.array([1,2,3,4])\n",
    "b=np.array([10,3,4,5])\n",
    "np.cov(a,b)"
   ]
  },
  {
   "cell_type": "code",
   "execution_count": 14,
   "id": "9608b367",
   "metadata": {},
   "outputs": [
    {
     "data": {
      "text/plain": [
       "array([[ 1.        , -0.58131836],\n",
       "       [-0.58131836,  1.        ]])"
      ]
     },
     "execution_count": 14,
     "metadata": {},
     "output_type": "execute_result"
    }
   ],
   "source": [
    "np.corrcoef(a, b)"
   ]
  },
  {
   "cell_type": "code",
   "execution_count": 19,
   "id": "110f757a",
   "metadata": {},
   "outputs": [],
   "source": [
    "import scipy"
   ]
  },
  {
   "cell_type": "code",
   "execution_count": 20,
   "id": "554f6777",
   "metadata": {},
   "outputs": [],
   "source": [
    "x = np.linspace(0, 10, 10)\n",
    "y = np.exp(-x/3.0)"
   ]
  },
  {
   "cell_type": "code",
   "execution_count": 22,
   "id": "a069b80a",
   "metadata": {},
   "outputs": [],
   "source": [
    "f = scipy.interpolate.interp1d(x, y)"
   ]
  },
  {
   "cell_type": "code",
   "execution_count": 24,
   "id": "a102bbe5",
   "metadata": {},
   "outputs": [],
   "source": [
    "import yfinance as yf\n",
    "begdate=\"2022-01-02\"\n",
    "enddate=\"2022-02-22\""
   ]
  },
  {
   "cell_type": "code",
   "execution_count": 46,
   "id": "bbc2914e",
   "metadata": {},
   "outputs": [
    {
     "name": "stdout",
     "output_type": "stream",
     "text": [
      "[*********************100%***********************]  1 of 1 completed\n"
     ]
    }
   ],
   "source": [
    "data = yf.download(\"AAPL\", start=begdate, end=enddate)"
   ]
  },
  {
   "cell_type": "code",
   "execution_count": 49,
   "id": "45f7ee31",
   "metadata": {},
   "outputs": [],
   "source": [
    "data.reset_index(inplace=True)"
   ]
  },
  {
   "cell_type": "code",
   "execution_count": 50,
   "id": "6461d098",
   "metadata": {
    "collapsed": true
   },
   "outputs": [
    {
     "data": {
      "text/html": [
       "<div>\n",
       "<style scoped>\n",
       "    .dataframe tbody tr th:only-of-type {\n",
       "        vertical-align: middle;\n",
       "    }\n",
       "\n",
       "    .dataframe tbody tr th {\n",
       "        vertical-align: top;\n",
       "    }\n",
       "\n",
       "    .dataframe thead th {\n",
       "        text-align: right;\n",
       "    }\n",
       "</style>\n",
       "<table border=\"1\" class=\"dataframe\">\n",
       "  <thead>\n",
       "    <tr style=\"text-align: right;\">\n",
       "      <th></th>\n",
       "      <th>Date</th>\n",
       "      <th>Open</th>\n",
       "      <th>High</th>\n",
       "      <th>Low</th>\n",
       "      <th>Close</th>\n",
       "      <th>Adj Close</th>\n",
       "      <th>Volume</th>\n",
       "    </tr>\n",
       "  </thead>\n",
       "  <tbody>\n",
       "    <tr>\n",
       "      <th>0</th>\n",
       "      <td>2022-01-03</td>\n",
       "      <td>177.830002</td>\n",
       "      <td>182.880005</td>\n",
       "      <td>177.710007</td>\n",
       "      <td>182.009995</td>\n",
       "      <td>181.511703</td>\n",
       "      <td>104487900</td>\n",
       "    </tr>\n",
       "    <tr>\n",
       "      <th>1</th>\n",
       "      <td>2022-01-04</td>\n",
       "      <td>182.630005</td>\n",
       "      <td>182.940002</td>\n",
       "      <td>179.119995</td>\n",
       "      <td>179.699997</td>\n",
       "      <td>179.208038</td>\n",
       "      <td>99310400</td>\n",
       "    </tr>\n",
       "    <tr>\n",
       "      <th>2</th>\n",
       "      <td>2022-01-05</td>\n",
       "      <td>179.610001</td>\n",
       "      <td>180.169998</td>\n",
       "      <td>174.639999</td>\n",
       "      <td>174.919998</td>\n",
       "      <td>174.441116</td>\n",
       "      <td>94537600</td>\n",
       "    </tr>\n",
       "    <tr>\n",
       "      <th>3</th>\n",
       "      <td>2022-01-06</td>\n",
       "      <td>172.699997</td>\n",
       "      <td>175.300003</td>\n",
       "      <td>171.639999</td>\n",
       "      <td>172.000000</td>\n",
       "      <td>171.529129</td>\n",
       "      <td>96904000</td>\n",
       "    </tr>\n",
       "    <tr>\n",
       "      <th>4</th>\n",
       "      <td>2022-01-07</td>\n",
       "      <td>172.889999</td>\n",
       "      <td>174.139999</td>\n",
       "      <td>171.029999</td>\n",
       "      <td>172.169998</td>\n",
       "      <td>171.698654</td>\n",
       "      <td>86709100</td>\n",
       "    </tr>\n",
       "    <tr>\n",
       "      <th>5</th>\n",
       "      <td>2022-01-10</td>\n",
       "      <td>169.080002</td>\n",
       "      <td>172.500000</td>\n",
       "      <td>168.169998</td>\n",
       "      <td>172.190002</td>\n",
       "      <td>171.718597</td>\n",
       "      <td>106765600</td>\n",
       "    </tr>\n",
       "    <tr>\n",
       "      <th>6</th>\n",
       "      <td>2022-01-11</td>\n",
       "      <td>172.320007</td>\n",
       "      <td>175.179993</td>\n",
       "      <td>170.820007</td>\n",
       "      <td>175.080002</td>\n",
       "      <td>174.600693</td>\n",
       "      <td>76138300</td>\n",
       "    </tr>\n",
       "    <tr>\n",
       "      <th>7</th>\n",
       "      <td>2022-01-12</td>\n",
       "      <td>176.119995</td>\n",
       "      <td>177.179993</td>\n",
       "      <td>174.820007</td>\n",
       "      <td>175.529999</td>\n",
       "      <td>175.049454</td>\n",
       "      <td>74805200</td>\n",
       "    </tr>\n",
       "    <tr>\n",
       "      <th>8</th>\n",
       "      <td>2022-01-13</td>\n",
       "      <td>175.779999</td>\n",
       "      <td>176.619995</td>\n",
       "      <td>171.789993</td>\n",
       "      <td>172.190002</td>\n",
       "      <td>171.718597</td>\n",
       "      <td>84505800</td>\n",
       "    </tr>\n",
       "    <tr>\n",
       "      <th>9</th>\n",
       "      <td>2022-01-14</td>\n",
       "      <td>171.339996</td>\n",
       "      <td>173.779999</td>\n",
       "      <td>171.089996</td>\n",
       "      <td>173.070007</td>\n",
       "      <td>172.596207</td>\n",
       "      <td>80440800</td>\n",
       "    </tr>\n",
       "    <tr>\n",
       "      <th>10</th>\n",
       "      <td>2022-01-18</td>\n",
       "      <td>171.509995</td>\n",
       "      <td>172.539993</td>\n",
       "      <td>169.410004</td>\n",
       "      <td>169.800003</td>\n",
       "      <td>169.335144</td>\n",
       "      <td>90956700</td>\n",
       "    </tr>\n",
       "    <tr>\n",
       "      <th>11</th>\n",
       "      <td>2022-01-19</td>\n",
       "      <td>170.000000</td>\n",
       "      <td>171.080002</td>\n",
       "      <td>165.940002</td>\n",
       "      <td>166.229996</td>\n",
       "      <td>165.774918</td>\n",
       "      <td>94815000</td>\n",
       "    </tr>\n",
       "    <tr>\n",
       "      <th>12</th>\n",
       "      <td>2022-01-20</td>\n",
       "      <td>166.979996</td>\n",
       "      <td>169.679993</td>\n",
       "      <td>164.179993</td>\n",
       "      <td>164.509995</td>\n",
       "      <td>164.059616</td>\n",
       "      <td>91420500</td>\n",
       "    </tr>\n",
       "    <tr>\n",
       "      <th>13</th>\n",
       "      <td>2022-01-21</td>\n",
       "      <td>164.419998</td>\n",
       "      <td>166.330002</td>\n",
       "      <td>162.300003</td>\n",
       "      <td>162.410004</td>\n",
       "      <td>161.965378</td>\n",
       "      <td>122848900</td>\n",
       "    </tr>\n",
       "    <tr>\n",
       "      <th>14</th>\n",
       "      <td>2022-01-24</td>\n",
       "      <td>160.020004</td>\n",
       "      <td>162.300003</td>\n",
       "      <td>154.699997</td>\n",
       "      <td>161.619995</td>\n",
       "      <td>161.177521</td>\n",
       "      <td>162294600</td>\n",
       "    </tr>\n",
       "    <tr>\n",
       "      <th>15</th>\n",
       "      <td>2022-01-25</td>\n",
       "      <td>158.979996</td>\n",
       "      <td>162.759995</td>\n",
       "      <td>157.020004</td>\n",
       "      <td>159.779999</td>\n",
       "      <td>159.342575</td>\n",
       "      <td>115798400</td>\n",
       "    </tr>\n",
       "    <tr>\n",
       "      <th>16</th>\n",
       "      <td>2022-01-26</td>\n",
       "      <td>163.500000</td>\n",
       "      <td>164.389999</td>\n",
       "      <td>157.820007</td>\n",
       "      <td>159.690002</td>\n",
       "      <td>159.252823</td>\n",
       "      <td>108275300</td>\n",
       "    </tr>\n",
       "    <tr>\n",
       "      <th>17</th>\n",
       "      <td>2022-01-27</td>\n",
       "      <td>162.449997</td>\n",
       "      <td>163.839996</td>\n",
       "      <td>158.279999</td>\n",
       "      <td>159.220001</td>\n",
       "      <td>158.784119</td>\n",
       "      <td>121954600</td>\n",
       "    </tr>\n",
       "    <tr>\n",
       "      <th>18</th>\n",
       "      <td>2022-01-28</td>\n",
       "      <td>165.710007</td>\n",
       "      <td>170.350006</td>\n",
       "      <td>162.800003</td>\n",
       "      <td>170.330002</td>\n",
       "      <td>169.863693</td>\n",
       "      <td>179935700</td>\n",
       "    </tr>\n",
       "    <tr>\n",
       "      <th>19</th>\n",
       "      <td>2022-01-31</td>\n",
       "      <td>170.160004</td>\n",
       "      <td>175.000000</td>\n",
       "      <td>169.509995</td>\n",
       "      <td>174.779999</td>\n",
       "      <td>174.301514</td>\n",
       "      <td>115541600</td>\n",
       "    </tr>\n",
       "    <tr>\n",
       "      <th>20</th>\n",
       "      <td>2022-02-01</td>\n",
       "      <td>174.009995</td>\n",
       "      <td>174.839996</td>\n",
       "      <td>172.309998</td>\n",
       "      <td>174.610001</td>\n",
       "      <td>174.131973</td>\n",
       "      <td>86213900</td>\n",
       "    </tr>\n",
       "    <tr>\n",
       "      <th>21</th>\n",
       "      <td>2022-02-02</td>\n",
       "      <td>174.750000</td>\n",
       "      <td>175.880005</td>\n",
       "      <td>173.330002</td>\n",
       "      <td>175.839996</td>\n",
       "      <td>175.358612</td>\n",
       "      <td>84914300</td>\n",
       "    </tr>\n",
       "    <tr>\n",
       "      <th>22</th>\n",
       "      <td>2022-02-03</td>\n",
       "      <td>174.479996</td>\n",
       "      <td>176.240005</td>\n",
       "      <td>172.119995</td>\n",
       "      <td>172.899994</td>\n",
       "      <td>172.426651</td>\n",
       "      <td>89418100</td>\n",
       "    </tr>\n",
       "    <tr>\n",
       "      <th>23</th>\n",
       "      <td>2022-02-04</td>\n",
       "      <td>171.679993</td>\n",
       "      <td>174.100006</td>\n",
       "      <td>170.679993</td>\n",
       "      <td>172.389999</td>\n",
       "      <td>172.137085</td>\n",
       "      <td>82465400</td>\n",
       "    </tr>\n",
       "    <tr>\n",
       "      <th>24</th>\n",
       "      <td>2022-02-07</td>\n",
       "      <td>172.860001</td>\n",
       "      <td>173.949997</td>\n",
       "      <td>170.949997</td>\n",
       "      <td>171.660004</td>\n",
       "      <td>171.408157</td>\n",
       "      <td>77251200</td>\n",
       "    </tr>\n",
       "    <tr>\n",
       "      <th>25</th>\n",
       "      <td>2022-02-08</td>\n",
       "      <td>171.729996</td>\n",
       "      <td>175.350006</td>\n",
       "      <td>171.429993</td>\n",
       "      <td>174.830002</td>\n",
       "      <td>174.573502</td>\n",
       "      <td>74829200</td>\n",
       "    </tr>\n",
       "    <tr>\n",
       "      <th>26</th>\n",
       "      <td>2022-02-09</td>\n",
       "      <td>176.050003</td>\n",
       "      <td>176.649994</td>\n",
       "      <td>174.899994</td>\n",
       "      <td>176.279999</td>\n",
       "      <td>176.021378</td>\n",
       "      <td>71285000</td>\n",
       "    </tr>\n",
       "    <tr>\n",
       "      <th>27</th>\n",
       "      <td>2022-02-10</td>\n",
       "      <td>174.139999</td>\n",
       "      <td>175.479996</td>\n",
       "      <td>171.550003</td>\n",
       "      <td>172.119995</td>\n",
       "      <td>171.867477</td>\n",
       "      <td>90865900</td>\n",
       "    </tr>\n",
       "    <tr>\n",
       "      <th>28</th>\n",
       "      <td>2022-02-11</td>\n",
       "      <td>172.330002</td>\n",
       "      <td>173.080002</td>\n",
       "      <td>168.039993</td>\n",
       "      <td>168.639999</td>\n",
       "      <td>168.392593</td>\n",
       "      <td>98670700</td>\n",
       "    </tr>\n",
       "    <tr>\n",
       "      <th>29</th>\n",
       "      <td>2022-02-14</td>\n",
       "      <td>167.369995</td>\n",
       "      <td>169.580002</td>\n",
       "      <td>166.559998</td>\n",
       "      <td>168.880005</td>\n",
       "      <td>168.632233</td>\n",
       "      <td>86185500</td>\n",
       "    </tr>\n",
       "    <tr>\n",
       "      <th>30</th>\n",
       "      <td>2022-02-15</td>\n",
       "      <td>170.970001</td>\n",
       "      <td>172.949997</td>\n",
       "      <td>170.250000</td>\n",
       "      <td>172.789993</td>\n",
       "      <td>172.536499</td>\n",
       "      <td>62527400</td>\n",
       "    </tr>\n",
       "    <tr>\n",
       "      <th>31</th>\n",
       "      <td>2022-02-16</td>\n",
       "      <td>171.850006</td>\n",
       "      <td>173.339996</td>\n",
       "      <td>170.050003</td>\n",
       "      <td>172.550003</td>\n",
       "      <td>172.296860</td>\n",
       "      <td>61177400</td>\n",
       "    </tr>\n",
       "    <tr>\n",
       "      <th>32</th>\n",
       "      <td>2022-02-17</td>\n",
       "      <td>171.029999</td>\n",
       "      <td>171.910004</td>\n",
       "      <td>168.470001</td>\n",
       "      <td>168.880005</td>\n",
       "      <td>168.632233</td>\n",
       "      <td>69589300</td>\n",
       "    </tr>\n",
       "    <tr>\n",
       "      <th>33</th>\n",
       "      <td>2022-02-18</td>\n",
       "      <td>169.820007</td>\n",
       "      <td>170.539993</td>\n",
       "      <td>166.190002</td>\n",
       "      <td>167.300003</td>\n",
       "      <td>167.054550</td>\n",
       "      <td>82772700</td>\n",
       "    </tr>\n",
       "  </tbody>\n",
       "</table>\n",
       "</div>"
      ],
      "text/plain": [
       "         Date        Open        High         Low       Close   Adj Close  \\\n",
       "0  2022-01-03  177.830002  182.880005  177.710007  182.009995  181.511703   \n",
       "1  2022-01-04  182.630005  182.940002  179.119995  179.699997  179.208038   \n",
       "2  2022-01-05  179.610001  180.169998  174.639999  174.919998  174.441116   \n",
       "3  2022-01-06  172.699997  175.300003  171.639999  172.000000  171.529129   \n",
       "4  2022-01-07  172.889999  174.139999  171.029999  172.169998  171.698654   \n",
       "5  2022-01-10  169.080002  172.500000  168.169998  172.190002  171.718597   \n",
       "6  2022-01-11  172.320007  175.179993  170.820007  175.080002  174.600693   \n",
       "7  2022-01-12  176.119995  177.179993  174.820007  175.529999  175.049454   \n",
       "8  2022-01-13  175.779999  176.619995  171.789993  172.190002  171.718597   \n",
       "9  2022-01-14  171.339996  173.779999  171.089996  173.070007  172.596207   \n",
       "10 2022-01-18  171.509995  172.539993  169.410004  169.800003  169.335144   \n",
       "11 2022-01-19  170.000000  171.080002  165.940002  166.229996  165.774918   \n",
       "12 2022-01-20  166.979996  169.679993  164.179993  164.509995  164.059616   \n",
       "13 2022-01-21  164.419998  166.330002  162.300003  162.410004  161.965378   \n",
       "14 2022-01-24  160.020004  162.300003  154.699997  161.619995  161.177521   \n",
       "15 2022-01-25  158.979996  162.759995  157.020004  159.779999  159.342575   \n",
       "16 2022-01-26  163.500000  164.389999  157.820007  159.690002  159.252823   \n",
       "17 2022-01-27  162.449997  163.839996  158.279999  159.220001  158.784119   \n",
       "18 2022-01-28  165.710007  170.350006  162.800003  170.330002  169.863693   \n",
       "19 2022-01-31  170.160004  175.000000  169.509995  174.779999  174.301514   \n",
       "20 2022-02-01  174.009995  174.839996  172.309998  174.610001  174.131973   \n",
       "21 2022-02-02  174.750000  175.880005  173.330002  175.839996  175.358612   \n",
       "22 2022-02-03  174.479996  176.240005  172.119995  172.899994  172.426651   \n",
       "23 2022-02-04  171.679993  174.100006  170.679993  172.389999  172.137085   \n",
       "24 2022-02-07  172.860001  173.949997  170.949997  171.660004  171.408157   \n",
       "25 2022-02-08  171.729996  175.350006  171.429993  174.830002  174.573502   \n",
       "26 2022-02-09  176.050003  176.649994  174.899994  176.279999  176.021378   \n",
       "27 2022-02-10  174.139999  175.479996  171.550003  172.119995  171.867477   \n",
       "28 2022-02-11  172.330002  173.080002  168.039993  168.639999  168.392593   \n",
       "29 2022-02-14  167.369995  169.580002  166.559998  168.880005  168.632233   \n",
       "30 2022-02-15  170.970001  172.949997  170.250000  172.789993  172.536499   \n",
       "31 2022-02-16  171.850006  173.339996  170.050003  172.550003  172.296860   \n",
       "32 2022-02-17  171.029999  171.910004  168.470001  168.880005  168.632233   \n",
       "33 2022-02-18  169.820007  170.539993  166.190002  167.300003  167.054550   \n",
       "\n",
       "       Volume  \n",
       "0   104487900  \n",
       "1    99310400  \n",
       "2    94537600  \n",
       "3    96904000  \n",
       "4    86709100  \n",
       "5   106765600  \n",
       "6    76138300  \n",
       "7    74805200  \n",
       "8    84505800  \n",
       "9    80440800  \n",
       "10   90956700  \n",
       "11   94815000  \n",
       "12   91420500  \n",
       "13  122848900  \n",
       "14  162294600  \n",
       "15  115798400  \n",
       "16  108275300  \n",
       "17  121954600  \n",
       "18  179935700  \n",
       "19  115541600  \n",
       "20   86213900  \n",
       "21   84914300  \n",
       "22   89418100  \n",
       "23   82465400  \n",
       "24   77251200  \n",
       "25   74829200  \n",
       "26   71285000  \n",
       "27   90865900  \n",
       "28   98670700  \n",
       "29   86185500  \n",
       "30   62527400  \n",
       "31   61177400  \n",
       "32   69589300  \n",
       "33   82772700  "
      ]
     },
     "execution_count": 50,
     "metadata": {},
     "output_type": "execute_result"
    }
   ],
   "source": [
    "data"
   ]
  },
  {
   "cell_type": "code",
   "execution_count": 51,
   "id": "e28f68c7",
   "metadata": {},
   "outputs": [],
   "source": [
    "returns=data[\"Open\"].pct_change(1)"
   ]
  },
  {
   "cell_type": "code",
   "execution_count": 52,
   "id": "98b9700e",
   "metadata": {},
   "outputs": [
    {
     "data": {
      "text/plain": [
       "0          NaN\n",
       "1     0.026992\n",
       "2    -0.016536\n",
       "3    -0.038472\n",
       "4     0.001100\n",
       "5    -0.022037\n",
       "6     0.019163\n",
       "7     0.022052\n",
       "8    -0.001930\n",
       "9    -0.025259\n",
       "10    0.000992\n",
       "11   -0.008804\n",
       "12   -0.017765\n",
       "13   -0.015331\n",
       "14   -0.026761\n",
       "15   -0.006499\n",
       "16    0.028431\n",
       "17   -0.006422\n",
       "18    0.020068\n",
       "19    0.026854\n",
       "20    0.022626\n",
       "21    0.004253\n",
       "22   -0.001545\n",
       "23   -0.016048\n",
       "24    0.006873\n",
       "25   -0.006537\n",
       "26    0.025156\n",
       "27   -0.010849\n",
       "28   -0.010394\n",
       "29   -0.028782\n",
       "30    0.021509\n",
       "31    0.005147\n",
       "32   -0.004772\n",
       "33   -0.007075\n",
       "Name: Open, dtype: float64"
      ]
     },
     "execution_count": 52,
     "metadata": {},
     "output_type": "execute_result"
    }
   ],
   "source": [
    "returns"
   ]
  },
  {
   "cell_type": "code",
   "execution_count": 53,
   "id": "4e4477ff",
   "metadata": {},
   "outputs": [],
   "source": [
    "n=len(returns)"
   ]
  },
  {
   "cell_type": "code",
   "execution_count": 54,
   "id": "1a597835",
   "metadata": {},
   "outputs": [
    {
     "data": {
      "text/plain": [
       "[<matplotlib.lines.Line2D at 0x258e5512c10>]"
      ]
     },
     "execution_count": 54,
     "metadata": {},
     "output_type": "execute_result"
    },
    {
     "data": {
      "image/png": "[encoded data removed]",
      "text/plain": [
       "<Figure size 432x288 with 1 Axes>"
      ]
     },
     "metadata": {
      "needs_background": "light"
     },
     "output_type": "display_data"
    }
   ],
   "source": [
    "plt.plot(range(0,n),returns)\n",
    "plt.xlable\n",
    "plt.ylable\n",
    "plt.xlim\n",
    "plt.ylim\n",
    "plt.title\n",
    "plt.legend"
   ]
  },
  {
   "cell_type": "code",
   "execution_count": 56,
   "id": "9dc97883",
   "metadata": {},
   "outputs": [
    {
     "name": "stdout",
     "output_type": "stream",
     "text": [
      "[*********************100%***********************]  1 of 1 completed\n",
      "[*********************100%***********************]  1 of 1 completed\n",
      "[*********************100%***********************]  1 of 1 completed\n",
      "[*********************100%***********************]  1 of 1 completed\n"
     ]
    }
   ],
   "source": [
    "all_data = {}\n",
    "for ticker in ['AAPL', 'IBM', 'MSFT', 'GOOG']:\n",
    "    all_data[ticker] = yf.download(ticker, begdate, enddate)"
   ]
  },
  {
   "cell_type": "code",
   "execution_count": 57,
   "id": "70a0f215",
   "metadata": {},
   "outputs": [],
   "source": [
    "price=pd.DataFrame({symbol: data['Close'] for symbol, data in all_data.items()})"
   ]
  },
  {
   "cell_type": "code",
   "execution_count": 59,
   "id": "7c25e9ba",
   "metadata": {},
   "outputs": [
    {
     "data": {
      "text/html": [
       "<div>\n",
       "<style scoped>\n",
       "    .dataframe tbody tr th:only-of-type {\n",
       "        vertical-align: middle;\n",
       "    }\n",
       "\n",
       "    .dataframe tbody tr th {\n",
       "        vertical-align: top;\n",
       "    }\n",
       "\n",
       "    .dataframe thead th {\n",
       "        text-align: right;\n",
       "    }\n",
       "</style>\n",
       "<table border=\"1\" class=\"dataframe\">\n",
       "  <thead>\n",
       "    <tr style=\"text-align: right;\">\n",
       "      <th></th>\n",
       "      <th>AAPL</th>\n",
       "      <th>IBM</th>\n",
       "    </tr>\n",
       "  </thead>\n",
       "  <tbody>\n",
       "    <tr>\n",
       "      <th>AAPL</th>\n",
       "      <td>30.694992</td>\n",
       "      <td>9.023017</td>\n",
       "    </tr>\n",
       "    <tr>\n",
       "      <th>IBM</th>\n",
       "      <td>9.023017</td>\n",
       "      <td>12.509542</td>\n",
       "    </tr>\n",
       "  </tbody>\n",
       "</table>\n",
       "</div>"
      ],
      "text/plain": [
       "           AAPL        IBM\n",
       "AAPL  30.694992   9.023017\n",
       "IBM    9.023017  12.509542"
      ]
     },
     "execution_count": 59,
     "metadata": {},
     "output_type": "execute_result"
    }
   ],
   "source": [
    "price.iloc[:,0:2].cov()"
   ]
  },
  {
   "cell_type": "code",
   "execution_count": 60,
   "id": "bb7cd9eb",
   "metadata": {},
   "outputs": [
    {
     "data": {
      "text/html": [
       "<div>\n",
       "<style scoped>\n",
       "    .dataframe tbody tr th:only-of-type {\n",
       "        vertical-align: middle;\n",
       "    }\n",
       "\n",
       "    .dataframe tbody tr th {\n",
       "        vertical-align: top;\n",
       "    }\n",
       "\n",
       "    .dataframe thead th {\n",
       "        text-align: right;\n",
       "    }\n",
       "</style>\n",
       "<table border=\"1\" class=\"dataframe\">\n",
       "  <thead>\n",
       "    <tr style=\"text-align: right;\">\n",
       "      <th></th>\n",
       "      <th>AAPL</th>\n",
       "      <th>IBM</th>\n",
       "      <th>MSFT</th>\n",
       "      <th>GOOG</th>\n",
       "    </tr>\n",
       "    <tr>\n",
       "      <th>Date</th>\n",
       "      <th></th>\n",
       "      <th></th>\n",
       "      <th></th>\n",
       "      <th></th>\n",
       "    </tr>\n",
       "  </thead>\n",
       "  <tbody>\n",
       "    <tr>\n",
       "      <th>2022-01-03</th>\n",
       "      <td>182.009995</td>\n",
       "      <td>136.039993</td>\n",
       "      <td>334.750000</td>\n",
       "      <td>2901.489990</td>\n",
       "    </tr>\n",
       "    <tr>\n",
       "      <th>2022-01-04</th>\n",
       "      <td>179.699997</td>\n",
       "      <td>138.020004</td>\n",
       "      <td>329.010010</td>\n",
       "      <td>2888.330078</td>\n",
       "    </tr>\n",
       "    <tr>\n",
       "      <th>2022-01-05</th>\n",
       "      <td>174.919998</td>\n",
       "      <td>138.220001</td>\n",
       "      <td>316.380005</td>\n",
       "      <td>2753.070068</td>\n",
       "    </tr>\n",
       "    <tr>\n",
       "      <th>2022-01-06</th>\n",
       "      <td>172.000000</td>\n",
       "      <td>135.339996</td>\n",
       "      <td>313.880005</td>\n",
       "      <td>2751.020020</td>\n",
       "    </tr>\n",
       "    <tr>\n",
       "      <th>2022-01-07</th>\n",
       "      <td>172.169998</td>\n",
       "      <td>134.830002</td>\n",
       "      <td>314.040009</td>\n",
       "      <td>2740.090088</td>\n",
       "    </tr>\n",
       "    <tr>\n",
       "      <th>2022-01-10</th>\n",
       "      <td>172.190002</td>\n",
       "      <td>135.029999</td>\n",
       "      <td>314.269989</td>\n",
       "      <td>2771.479980</td>\n",
       "    </tr>\n",
       "    <tr>\n",
       "      <th>2022-01-11</th>\n",
       "      <td>175.080002</td>\n",
       "      <td>132.869995</td>\n",
       "      <td>314.980011</td>\n",
       "      <td>2800.350098</td>\n",
       "    </tr>\n",
       "    <tr>\n",
       "      <th>2022-01-12</th>\n",
       "      <td>175.529999</td>\n",
       "      <td>133.589996</td>\n",
       "      <td>318.269989</td>\n",
       "      <td>2832.959961</td>\n",
       "    </tr>\n",
       "    <tr>\n",
       "      <th>2022-01-13</th>\n",
       "      <td>172.190002</td>\n",
       "      <td>134.759995</td>\n",
       "      <td>304.799988</td>\n",
       "      <td>2782.620117</td>\n",
       "    </tr>\n",
       "    <tr>\n",
       "      <th>2022-01-14</th>\n",
       "      <td>173.070007</td>\n",
       "      <td>134.210007</td>\n",
       "      <td>310.200012</td>\n",
       "      <td>2795.729980</td>\n",
       "    </tr>\n",
       "    <tr>\n",
       "      <th>2022-01-18</th>\n",
       "      <td>169.800003</td>\n",
       "      <td>132.940002</td>\n",
       "      <td>302.649994</td>\n",
       "      <td>2725.810059</td>\n",
       "    </tr>\n",
       "    <tr>\n",
       "      <th>2022-01-19</th>\n",
       "      <td>166.229996</td>\n",
       "      <td>131.580002</td>\n",
       "      <td>303.329987</td>\n",
       "      <td>2713.040039</td>\n",
       "    </tr>\n",
       "    <tr>\n",
       "      <th>2022-01-20</th>\n",
       "      <td>164.509995</td>\n",
       "      <td>130.820007</td>\n",
       "      <td>301.600006</td>\n",
       "      <td>2670.129883</td>\n",
       "    </tr>\n",
       "    <tr>\n",
       "      <th>2022-01-21</th>\n",
       "      <td>162.410004</td>\n",
       "      <td>129.350006</td>\n",
       "      <td>296.029999</td>\n",
       "      <td>2601.840088</td>\n",
       "    </tr>\n",
       "    <tr>\n",
       "      <th>2022-01-24</th>\n",
       "      <td>161.619995</td>\n",
       "      <td>128.820007</td>\n",
       "      <td>296.369995</td>\n",
       "      <td>2607.439941</td>\n",
       "    </tr>\n",
       "    <tr>\n",
       "      <th>2022-01-25</th>\n",
       "      <td>159.779999</td>\n",
       "      <td>136.100006</td>\n",
       "      <td>288.489990</td>\n",
       "      <td>2534.709961</td>\n",
       "    </tr>\n",
       "    <tr>\n",
       "      <th>2022-01-26</th>\n",
       "      <td>159.690002</td>\n",
       "      <td>134.259995</td>\n",
       "      <td>296.709991</td>\n",
       "      <td>2584.800049</td>\n",
       "    </tr>\n",
       "    <tr>\n",
       "      <th>2022-01-27</th>\n",
       "      <td>159.220001</td>\n",
       "      <td>132.520004</td>\n",
       "      <td>299.839996</td>\n",
       "      <td>2582.419922</td>\n",
       "    </tr>\n",
       "    <tr>\n",
       "      <th>2022-01-28</th>\n",
       "      <td>170.330002</td>\n",
       "      <td>134.500000</td>\n",
       "      <td>308.260010</td>\n",
       "      <td>2665.790039</td>\n",
       "    </tr>\n",
       "    <tr>\n",
       "      <th>2022-01-31</th>\n",
       "      <td>174.779999</td>\n",
       "      <td>133.570007</td>\n",
       "      <td>310.980011</td>\n",
       "      <td>2713.969971</td>\n",
       "    </tr>\n",
       "    <tr>\n",
       "      <th>2022-02-01</th>\n",
       "      <td>174.610001</td>\n",
       "      <td>135.529999</td>\n",
       "      <td>308.760010</td>\n",
       "      <td>2757.570068</td>\n",
       "    </tr>\n",
       "    <tr>\n",
       "      <th>2022-02-02</th>\n",
       "      <td>175.839996</td>\n",
       "      <td>137.250000</td>\n",
       "      <td>313.459991</td>\n",
       "      <td>2960.729980</td>\n",
       "    </tr>\n",
       "    <tr>\n",
       "      <th>2022-02-03</th>\n",
       "      <td>172.899994</td>\n",
       "      <td>137.779999</td>\n",
       "      <td>301.250000</td>\n",
       "      <td>2853.010010</td>\n",
       "    </tr>\n",
       "    <tr>\n",
       "      <th>2022-02-04</th>\n",
       "      <td>172.389999</td>\n",
       "      <td>137.149994</td>\n",
       "      <td>305.940002</td>\n",
       "      <td>2860.320068</td>\n",
       "    </tr>\n",
       "    <tr>\n",
       "      <th>2022-02-07</th>\n",
       "      <td>171.660004</td>\n",
       "      <td>137.240005</td>\n",
       "      <td>300.950012</td>\n",
       "      <td>2778.760010</td>\n",
       "    </tr>\n",
       "    <tr>\n",
       "      <th>2022-02-08</th>\n",
       "      <td>174.830002</td>\n",
       "      <td>137.020004</td>\n",
       "      <td>304.559998</td>\n",
       "      <td>2784.260010</td>\n",
       "    </tr>\n",
       "    <tr>\n",
       "      <th>2022-02-09</th>\n",
       "      <td>176.279999</td>\n",
       "      <td>137.789993</td>\n",
       "      <td>311.209991</td>\n",
       "      <td>2829.060059</td>\n",
       "    </tr>\n",
       "    <tr>\n",
       "      <th>2022-02-10</th>\n",
       "      <td>172.119995</td>\n",
       "      <td>133.520004</td>\n",
       "      <td>302.380005</td>\n",
       "      <td>2772.050049</td>\n",
       "    </tr>\n",
       "    <tr>\n",
       "      <th>2022-02-11</th>\n",
       "      <td>168.639999</td>\n",
       "      <td>132.690002</td>\n",
       "      <td>295.040009</td>\n",
       "      <td>2682.600098</td>\n",
       "    </tr>\n",
       "    <tr>\n",
       "      <th>2022-02-14</th>\n",
       "      <td>168.880005</td>\n",
       "      <td>130.149994</td>\n",
       "      <td>295.000000</td>\n",
       "      <td>2706.000000</td>\n",
       "    </tr>\n",
       "    <tr>\n",
       "      <th>2022-02-15</th>\n",
       "      <td>172.789993</td>\n",
       "      <td>129.940002</td>\n",
       "      <td>300.470001</td>\n",
       "      <td>2728.510010</td>\n",
       "    </tr>\n",
       "    <tr>\n",
       "      <th>2022-02-16</th>\n",
       "      <td>172.550003</td>\n",
       "      <td>129.179993</td>\n",
       "      <td>299.500000</td>\n",
       "      <td>2749.750000</td>\n",
       "    </tr>\n",
       "    <tr>\n",
       "      <th>2022-02-17</th>\n",
       "      <td>168.880005</td>\n",
       "      <td>124.970001</td>\n",
       "      <td>290.730011</td>\n",
       "      <td>2646.169922</td>\n",
       "    </tr>\n",
       "    <tr>\n",
       "      <th>2022-02-18</th>\n",
       "      <td>167.300003</td>\n",
       "      <td>124.349998</td>\n",
       "      <td>287.929993</td>\n",
       "      <td>2609.350098</td>\n",
       "    </tr>\n",
       "  </tbody>\n",
       "</table>\n",
       "</div>"
      ],
      "text/plain": [
       "                  AAPL         IBM        MSFT         GOOG\n",
       "Date                                                       \n",
       "2022-01-03  182.009995  136.039993  334.750000  2901.489990\n",
       "2022-01-04  179.699997  138.020004  329.010010  2888.330078\n",
       "2022-01-05  174.919998  138.220001  316.380005  2753.070068\n",
       "2022-01-06  172.000000  135.339996  313.880005  2751.020020\n",
       "2022-01-07  172.169998  134.830002  314.040009  2740.090088\n",
       "2022-01-10  172.190002  135.029999  314.269989  2771.479980\n",
       "2022-01-11  175.080002  132.869995  314.980011  2800.350098\n",
       "2022-01-12  175.529999  133.589996  318.269989  2832.959961\n",
       "2022-01-13  172.190002  134.759995  304.799988  2782.620117\n",
       "2022-01-14  173.070007  134.210007  310.200012  2795.729980\n",
       "2022-01-18  169.800003  132.940002  302.649994  2725.810059\n",
       "2022-01-19  166.229996  131.580002  303.329987  2713.040039\n",
       "2022-01-20  164.509995  130.820007  301.600006  2670.129883\n",
       "2022-01-21  162.410004  129.350006  296.029999  2601.840088\n",
       "2022-01-24  161.619995  128.820007  296.369995  2607.439941\n",
       "2022-01-25  159.779999  136.100006  288.489990  2534.709961\n",
       "2022-01-26  159.690002  134.259995  296.709991  2584.800049\n",
       "2022-01-27  159.220001  132.520004  299.839996  2582.419922\n",
       "2022-01-28  170.330002  134.500000  308.260010  2665.790039\n",
       "2022-01-31  174.779999  133.570007  310.980011  2713.969971\n",
       "2022-02-01  174.610001  135.529999  308.760010  2757.570068\n",
       "2022-02-02  175.839996  137.250000  313.459991  2960.729980\n",
       "2022-02-03  172.899994  137.779999  301.250000  2853.010010\n",
       "2022-02-04  172.389999  137.149994  305.940002  2860.320068\n",
       "2022-02-07  171.660004  137.240005  300.950012  2778.760010\n",
       "2022-02-08  174.830002  137.020004  304.559998  2784.260010\n",
       "2022-02-09  176.279999  137.789993  311.209991  2829.060059\n",
       "2022-02-10  172.119995  133.520004  302.380005  2772.050049\n",
       "2022-02-11  168.639999  132.690002  295.040009  2682.600098\n",
       "2022-02-14  168.880005  130.149994  295.000000  2706.000000\n",
       "2022-02-15  172.789993  129.940002  300.470001  2728.510010\n",
       "2022-02-16  172.550003  129.179993  299.500000  2749.750000\n",
       "2022-02-17  168.880005  124.970001  290.730011  2646.169922\n",
       "2022-02-18  167.300003  124.349998  287.929993  2609.350098"
      ]
     },
     "execution_count": 60,
     "metadata": {},
     "output_type": "execute_result"
    }
   ],
   "source": [
    "price"
   ]
  },
  {
   "cell_type": "code",
   "execution_count": 7,
   "id": "a9e362f2",
   "metadata": {},
   "outputs": [],
   "source": [
    "a=[11,2,34]\n",
    "b=[12,3,5]\n",
    "d=pd.DataFrame({\"a\":a,\"b\":b})"
   ]
  },
  {
   "cell_type": "code",
   "execution_count": 8,
   "id": "9152dac5",
   "metadata": {},
   "outputs": [
    {
     "data": {
      "text/html": [
       "<div>\n",
       "<style scoped>\n",
       "    .dataframe tbody tr th:only-of-type {\n",
       "        vertical-align: middle;\n",
       "    }\n",
       "\n",
       "    .dataframe tbody tr th {\n",
       "        vertical-align: top;\n",
       "    }\n",
       "\n",
       "    .dataframe thead th {\n",
       "        text-align: right;\n",
       "    }\n",
       "</style>\n",
       "<table border=\"1\" class=\"dataframe\">\n",
       "  <thead>\n",
       "    <tr style=\"text-align: right;\">\n",
       "      <th></th>\n",
       "      <th>a</th>\n",
       "      <th>b</th>\n",
       "    </tr>\n",
       "  </thead>\n",
       "  <tbody>\n",
       "    <tr>\n",
       "      <th>0</th>\n",
       "      <td>11</td>\n",
       "      <td>12</td>\n",
       "    </tr>\n",
       "    <tr>\n",
       "      <th>1</th>\n",
       "      <td>2</td>\n",
       "      <td>3</td>\n",
       "    </tr>\n",
       "    <tr>\n",
       "      <th>2</th>\n",
       "      <td>34</td>\n",
       "      <td>5</td>\n",
       "    </tr>\n",
       "  </tbody>\n",
       "</table>\n",
       "</div>"
      ],
      "text/plain": [
       "    a   b\n",
       "0  11  12\n",
       "1   2   3\n",
       "2  34   5"
      ]
     },
     "execution_count": 8,
     "metadata": {},
     "output_type": "execute_result"
    }
   ],
   "source": [
    "d"
   ]
  },
  {
   "cell_type": "code",
   "execution_count": 3,
   "id": "c95eec28",
   "metadata": {},
   "outputs": [
    {
     "data": {
      "text/plain": [
       "4"
      ]
     },
     "execution_count": 3,
     "metadata": {},
     "output_type": "execute_result"
    }
   ],
   "source": [
    "a=[4,5,6,7,8]\n",
    "a.index(8)"
   ]
  },
  {
   "cell_type": "code",
   "execution_count": 4,
   "id": "82a22dda",
   "metadata": {},
   "outputs": [
    {
     "name": "stdout",
     "output_type": "stream",
     "text": [
      "2\n",
      "3\n",
      "4\n",
      "5\n",
      "6\n",
      "7\n",
      "8\n",
      "9\n"
     ]
    }
   ],
   "source": [
    "for i in range(2,10):\n",
    "    print(i)\n",
    "    "
   ]
  },
  {
   "cell_type": "code",
   "execution_count": 6,
   "id": "11395b71",
   "metadata": {},
   "outputs": [],
   "source": [
    "from typing import List"
   ]
  },
  {
   "cell_type": "code",
   "execution_count": 16,
   "id": "910fe0d7",
   "metadata": {},
   "outputs": [],
   "source": [
    "class Solution:\n",
    "    def twoSum(self, nums: List[int], target: int) -> List[int]:\n",
    "        length=len(nums)\n",
    "        print(length)\n",
    "        for i in range(0,length):\n",
    "            if(target-nums[i] in nums):\n",
    "                print(\"i is \",i)\n",
    "                j=nums.index(target-nums[i])\n",
    "                print(\"j is \",j)\n",
    "                if(i>j):\n",
    "                    return [j,i]\n",
    "                else:\n",
    "                    return [i,j]\n",
    "            else:\n",
    "                continue"
   ]
  },
  {
   "cell_type": "code",
   "execution_count": 17,
   "id": "11bc57cc",
   "metadata": {},
   "outputs": [
    {
     "name": "stdout",
     "output_type": "stream",
     "text": [
      "3\n",
      "i is  0\n",
      "j is  0\n"
     ]
    },
    {
     "data": {
      "text/plain": [
       "[0, 0]"
      ]
     },
     "execution_count": 17,
     "metadata": {},
     "output_type": "execute_result"
    }
   ],
   "source": [
    "p=Solution()\n",
    "a=[3,2,4]\n",
    "b=6\n",
    "p.twoSum(a,b)"
   ]
  },
  {
   "cell_type": "code",
   "execution_count": 2,
   "id": "80eb9e3b",
   "metadata": {},
   "outputs": [],
   "source": [
    "a=b=6"
   ]
  },
  {
   "cell_type": "code",
   "execution_count": 3,
   "id": "5e32cc34",
   "metadata": {},
   "outputs": [],
   "source": [
    "a=8"
   ]
  },
  {
   "cell_type": "code",
   "execution_count": 4,
   "id": "57af199d",
   "metadata": {},
   "outputs": [
    {
     "data": {
      "text/plain": [
       "6"
      ]
     },
     "execution_count": 4,
     "metadata": {},
     "output_type": "execute_result"
    }
   ],
   "source": [
    "b\n"
   ]
  },
  {
   "cell_type": "code",
   "execution_count": 5,
   "id": "79485602",
   "metadata": {},
   "outputs": [
    {
     "data": {
      "text/plain": [
       "6"
      ]
     },
     "execution_count": 5,
     "metadata": {},
     "output_type": "execute_result"
    }
   ],
   "source": [
    "i=6\n",
    "j=i\n",
    "i=5\n",
    "j"
   ]
  },
  {
   "cell_type": "code",
   "execution_count": 6,
   "id": "fcf0067f",
   "metadata": {},
   "outputs": [
    {
     "name": "stdout",
     "output_type": "stream",
     "text": [
      "[5, 2, 3]\n"
     ]
    }
   ],
   "source": [
    "i = [1,2,3]\n",
    "j = i\n",
    "i[0] = 5\n",
    "print(j)"
   ]
  },
  {
   "cell_type": "code",
   "execution_count": 7,
   "id": "005d877c",
   "metadata": {},
   "outputs": [],
   "source": [
    "a=str(987)"
   ]
  },
  {
   "cell_type": "code",
   "execution_count": 8,
   "id": "d10d24cd",
   "metadata": {},
   "outputs": [
    {
     "data": {
      "text/plain": [
       "'987'"
      ]
     },
     "execution_count": 8,
     "metadata": {},
     "output_type": "execute_result"
    }
   ],
   "source": [
    "a"
   ]
  },
  {
   "cell_type": "code",
   "execution_count": 9,
   "id": "d8f86e09",
   "metadata": {},
   "outputs": [
    {
     "data": {
      "text/plain": [
       "'9'"
      ]
     },
     "execution_count": 9,
     "metadata": {},
     "output_type": "execute_result"
    }
   ],
   "source": [
    "a[0]"
   ]
  },
  {
   "cell_type": "code",
   "execution_count": 10,
   "id": "fdfe5150",
   "metadata": {},
   "outputs": [
    {
     "data": {
      "text/plain": [
       "'1'"
      ]
     },
     "execution_count": 10,
     "metadata": {},
     "output_type": "execute_result"
    }
   ],
   "source": [
    "a='1256'\n",
    "a[-4]"
   ]
  },
  {
   "cell_type": "code",
   "execution_count": 12,
   "id": "db770586",
   "metadata": {},
   "outputs": [
    {
     "name": "stdout",
     "output_type": "stream",
     "text": [
      "yes\n"
     ]
    }
   ],
   "source": [
    "a=\"hello w lo rkd\"\n",
    "if 'lo ' in a:\n",
    "    print(\"yes\")"
   ]
  },
  {
   "cell_type": "code",
   "execution_count": 13,
   "id": "44690ffb",
   "metadata": {},
   "outputs": [
    {
     "data": {
      "text/plain": [
       "2"
      ]
     },
     "execution_count": 13,
     "metadata": {},
     "output_type": "execute_result"
    }
   ],
   "source": [
    "a.count('lo ')"
   ]
  },
  {
   "cell_type": "code",
   "execution_count": 15,
   "id": "2e1ff459",
   "metadata": {},
   "outputs": [
    {
     "data": {
      "text/plain": [
       "'helw rkd'"
      ]
     },
     "execution_count": 15,
     "metadata": {},
     "output_type": "execute_result"
    }
   ],
   "source": [
    "a.replace(\"lo \",\"\")"
   ]
  },
  {
   "cell_type": "code",
   "execution_count": 21,
   "id": "871f50b7",
   "metadata": {},
   "outputs": [
    {
     "name": "stdout",
     "output_type": "stream",
     "text": [
      "IV\n",
      "<class 'str'>\n",
      "4\n",
      "<class 'int'>\n",
      "IX\n",
      "<class 'str'>\n",
      "9\n",
      "<class 'int'>\n",
      "XL\n",
      "<class 'str'>\n",
      "40\n",
      "<class 'int'>\n",
      "XC\n",
      "<class 'str'>\n",
      "90\n",
      "<class 'int'>\n",
      "CD\n",
      "<class 'str'>\n",
      "400\n",
      "<class 'int'>\n",
      "CM\n",
      "<class 'str'>\n",
      "900\n",
      "<class 'int'>\n"
     ]
    }
   ],
   "source": [
    "dict2={'IV':4,'IX':9,'XL':40,'XC':90,'CD':400,'CM':900}\n",
    "for key,value in dict2.items():\n",
    "    print(key)\n",
    "    print(type(key))\n",
    "    print(value)\n",
    "    print(type(value))\n"
   ]
  },
  {
   "cell_type": "code",
   "execution_count": 23,
   "id": "fe171816",
   "metadata": {},
   "outputs": [
    {
     "data": {
      "text/plain": [
       "'dfd'"
      ]
     },
     "execution_count": 23,
     "metadata": {},
     "output_type": "execute_result"
    }
   ],
   "source": [
    "a=\"djjfd\"\n",
    "b='jj'\n",
    "a.replace(b,'')"
   ]
  },
  {
   "cell_type": "code",
   "execution_count": 39,
   "id": "c447c6ba",
   "metadata": {},
   "outputs": [],
   "source": [
    "    def romanToInt(s: str) -> int:\n",
    "        dict1={'I':1,'V':5,'X':10,'L':50,'C':100,'D':500,'M':1000}\n",
    "        dict2={'IV':4,'IX':9,'XL':40,'XC':90,'CD':400,'CM':900}\n",
    "        sum1=0\n",
    "        sum2=0\n",
    "        for i,j in dict2.items():\n",
    "            num=s.count(i)\n",
    "            sum1=sum1+num*j\n",
    "            print(i)\n",
    "            s=s.replace(i,'')\n",
    "            \"\"\"\n",
    "        for i in range(0,len(s)):\n",
    "            sum2=sum2+dict1[s[i]]\n",
    "            \"\"\"\n",
    "        print(s)\n",
    "        return sum1+sum2\n",
    "            \n",
    "            \n",
    "            \n",
    "            \n",
    "        "
   ]
  },
  {
   "cell_type": "code",
   "execution_count": 40,
   "id": "0dad921e",
   "metadata": {},
   "outputs": [
    {
     "name": "stdout",
     "output_type": "stream",
     "text": [
      "IV\n",
      "IX\n",
      "XL\n",
      "XC\n",
      "CD\n",
      "CM\n",
      "MCMXCIV\n"
     ]
    },
    {
     "data": {
      "text/plain": [
       "994"
      ]
     },
     "execution_count": 40,
     "metadata": {},
     "output_type": "execute_result"
    }
   ],
   "source": [
    "romanToInt(\"MCMXCIV\")"
   ]
  },
  {
   "cell_type": "code",
   "execution_count": 47,
   "id": "fd9f7dc3",
   "metadata": {},
   "outputs": [],
   "source": [
    "a=\"MCMXCIV\"\n",
    "b='IV'\n",
    "a=a.replace(b,'')"
   ]
  },
  {
   "cell_type": "code",
   "execution_count": 48,
   "id": "d27d4efe",
   "metadata": {},
   "outputs": [
    {
     "name": "stdout",
     "output_type": "stream",
     "text": [
      "MCMXC\n"
     ]
    }
   ],
   "source": [
    "print(a)"
   ]
  },
  {
   "cell_type": "code",
   "execution_count": 45,
   "id": "6229a1af",
   "metadata": {},
   "outputs": [],
   "source": [
    "a.replace?"
   ]
  },
  {
   "cell_type": "code",
   "execution_count": 49,
   "id": "e02e5d1c",
   "metadata": {},
   "outputs": [],
   "source": [
    "a=[\"a\",\"sf\",\"fhud\"]"
   ]
  },
  {
   "cell_type": "code",
   "execution_count": 55,
   "id": "deab676f",
   "metadata": {},
   "outputs": [],
   "source": [
    "b=list(map(lambda x:len(x),a))"
   ]
  },
  {
   "cell_type": "code",
   "execution_count": 57,
   "id": "1bd003a0",
   "metadata": {},
   "outputs": [
    {
     "data": {
      "text/plain": [
       "1"
      ]
     },
     "execution_count": 57,
     "metadata": {},
     "output_type": "execute_result"
    }
   ],
   "source": [
    "min(b)"
   ]
  },
  {
   "cell_type": "code",
   "execution_count": 62,
   "id": "6f355b06",
   "metadata": {},
   "outputs": [
    {
     "name": "stdout",
     "output_type": "stream",
     "text": [
      "a\n",
      "sf\n",
      "fhud\n"
     ]
    }
   ],
   "source": [
    "for i in a:\n",
    "    sum1=\"\"\n",
    "    sum1=sum1+i\n",
    "    print(i)\n"
   ]
  },
  {
   "cell_type": "code",
   "execution_count": 63,
   "id": "b5c128da",
   "metadata": {},
   "outputs": [
    {
     "data": {
      "text/plain": [
       "'fhud'"
      ]
     },
     "execution_count": 63,
     "metadata": {},
     "output_type": "execute_result"
    }
   ],
   "source": [
    "sum1"
   ]
  },
  {
   "cell_type": "code",
   "execution_count": 159,
   "id": "185ca23d",
   "metadata": {},
   "outputs": [],
   "source": [
    "from typing import List"
   ]
  },
  {
   "cell_type": "code",
   "execution_count": 73,
   "id": "b288d149",
   "metadata": {},
   "outputs": [],
   "source": [
    "def longestCommonPrefix(strs: List[str]) -> str:\n",
    "        #initialize the output as empty string\n",
    "        out=\"\"\n",
    "        \n",
    "        #get the maximum string it can get, in case for the while loop\n",
    "        num_list=list(map(lambda x:len(x),strs))\n",
    "        num=min(num_list)\n",
    "        \n",
    "        #顺序符号，保证必须是连续的才可以，假如第一个和第三个符合条件也是不可以的\n",
    "        #rank=0\n",
    "        #now using for loop\n",
    "        for i in range(0,num):\n",
    "            compare=\"\"\n",
    "            n=0\n",
    "            #get every specific place letter in every string member in the list\n",
    "            for j in strs:\n",
    "                if n==0:\n",
    "                    compare=j[i]\n",
    "                    n=n+1\n",
    "                    continue\n",
    "                if compare==j[i]:\n",
    "                    n=n+1\n",
    "                    continue\n",
    "                else:\n",
    "                    break\n",
    "            if(n==len(strs)):\n",
    "                out=out+compare[0]\n",
    "            else:\n",
    "                break\n",
    "        return out"
   ]
  },
  {
   "cell_type": "code",
   "execution_count": 74,
   "id": "1f39ca28",
   "metadata": {},
   "outputs": [
    {
     "data": {
      "text/plain": [
       "'fl'"
      ]
     },
     "execution_count": 74,
     "metadata": {},
     "output_type": "execute_result"
    }
   ],
   "source": [
    "strs = [\"flower\",\"flow\",\"flight\"]\n",
    "longestCommonPrefix(strs)"
   ]
  },
  {
   "cell_type": "code",
   "execution_count": 72,
   "id": "060f522d",
   "metadata": {},
   "outputs": [
    {
     "data": {
      "text/plain": [
       "4"
      ]
     },
     "execution_count": 72,
     "metadata": {},
     "output_type": "execute_result"
    }
   ],
   "source": [
    "num_list=list(map(lambda x:len(x),strs))\n",
    "num=min(num_list)\n",
    "num"
   ]
  },
  {
   "cell_type": "code",
   "execution_count": 75,
   "id": "0736213b",
   "metadata": {},
   "outputs": [],
   "source": [
    "shortest = min(strs,key=len)"
   ]
  },
  {
   "cell_type": "code",
   "execution_count": 76,
   "id": "cb410d34",
   "metadata": {},
   "outputs": [
    {
     "data": {
      "text/plain": [
       "'flow'"
      ]
     },
     "execution_count": 76,
     "metadata": {},
     "output_type": "execute_result"
    }
   ],
   "source": [
    "shortest"
   ]
  },
  {
   "cell_type": "code",
   "execution_count": 77,
   "id": "c3cfc1c7",
   "metadata": {},
   "outputs": [
    {
     "name": "stdout",
     "output_type": "stream",
     "text": [
      "0\n",
      "f\n",
      "1\n",
      "l\n",
      "2\n",
      "o\n",
      "3\n",
      "w\n"
     ]
    }
   ],
   "source": [
    "for i, ch in enumerate(shortest):\n",
    "    print(i)\n",
    "    print(ch)"
   ]
  },
  {
   "cell_type": "code",
   "execution_count": 78,
   "id": "35bf8e8c",
   "metadata": {},
   "outputs": [
    {
     "data": {
      "text/plain": [
       "''"
      ]
     },
     "execution_count": 78,
     "metadata": {},
     "output_type": "execute_result"
    }
   ],
   "source": [
    "shortest[:0]"
   ]
  },
  {
   "cell_type": "code",
   "execution_count": 89,
   "id": "f4e4743a",
   "metadata": {},
   "outputs": [],
   "source": [
    "a=[1,2,4,5]\n",
    "b=[0,5,6]\n",
    "c=a+b"
   ]
  },
  {
   "cell_type": "code",
   "execution_count": 90,
   "id": "fe011cbd",
   "metadata": {},
   "outputs": [],
   "source": [
    "c.sort()"
   ]
  },
  {
   "cell_type": "code",
   "execution_count": 91,
   "id": "e044fb94",
   "metadata": {},
   "outputs": [
    {
     "data": {
      "text/plain": [
       "[0, 1, 2, 4, 5, 5, 6]"
      ]
     },
     "execution_count": 91,
     "metadata": {},
     "output_type": "execute_result"
    }
   ],
   "source": [
    "c"
   ]
  },
  {
   "cell_type": "code",
   "execution_count": 92,
   "id": "fea45092",
   "metadata": {},
   "outputs": [
    {
     "data": {
      "text/plain": [
       "<function dict.keys>"
      ]
     },
     "execution_count": 92,
     "metadata": {},
     "output_type": "execute_result"
    }
   ],
   "source": [
    "dict={'(':')','{':'}','[':']'}\n",
    "dict.keys"
   ]
  },
  {
   "cell_type": "code",
   "execution_count": 99,
   "id": "3843d3af",
   "metadata": {},
   "outputs": [
    {
     "name": "stdout",
     "output_type": "stream",
     "text": [
      "(\n",
      "{\n",
      "[\n"
     ]
    },
    {
     "data": {
      "text/plain": [
       "[None, None, None]"
      ]
     },
     "execution_count": 99,
     "metadata": {},
     "output_type": "execute_result"
    }
   ],
   "source": [
    "[print(i) for i in dict.keys()]"
   ]
  },
  {
   "cell_type": "code",
   "execution_count": 98,
   "id": "df9190b4",
   "metadata": {},
   "outputs": [
    {
     "name": "stdout",
     "output_type": "stream",
     "text": [
      "(\n",
      "{\n",
      "[\n"
     ]
    }
   ],
   "source": [
    "for i in dict.keys():\n",
    "    print(i)"
   ]
  },
  {
   "cell_type": "code",
   "execution_count": 100,
   "id": "19df542a",
   "metadata": {},
   "outputs": [
    {
     "name": "stdout",
     "output_type": "stream",
     "text": [
      "yes\n"
     ]
    }
   ],
   "source": [
    "if '(' in dict.keys():\n",
    "    print(\"yes\")"
   ]
  },
  {
   "cell_type": "code",
   "execution_count": 104,
   "id": "3f53f5c4",
   "metadata": {},
   "outputs": [
    {
     "name": "stdout",
     "output_type": "stream",
     "text": [
      "yes\n"
     ]
    }
   ],
   "source": [
    "a=['s','f','c']\n",
    "if 3 not in a:\n",
    "    print('yes')"
   ]
  },
  {
   "cell_type": "code",
   "execution_count": 105,
   "id": "6768a884",
   "metadata": {},
   "outputs": [
    {
     "name": "stdout",
     "output_type": "stream",
     "text": [
      "0\n",
      "s\n",
      "1\n",
      "f\n",
      "2\n",
      "c\n"
     ]
    }
   ],
   "source": [
    "for i,j in enumerate(a):\n",
    "    print(i)\n",
    "    print(j)"
   ]
  },
  {
   "cell_type": "code",
   "execution_count": 106,
   "id": "f0f5d608",
   "metadata": {},
   "outputs": [],
   "source": [
    "a=2\n",
    "a+=1"
   ]
  },
  {
   "cell_type": "code",
   "execution_count": 107,
   "id": "c82745f1",
   "metadata": {},
   "outputs": [
    {
     "data": {
      "text/plain": [
       "3"
      ]
     },
     "execution_count": 107,
     "metadata": {},
     "output_type": "execute_result"
    }
   ],
   "source": [
    "a"
   ]
  },
  {
   "cell_type": "code",
   "execution_count": 115,
   "id": "25337063",
   "metadata": {},
   "outputs": [
    {
     "data": {
      "text/plain": [
       "0"
      ]
     },
     "execution_count": 115,
     "metadata": {},
     "output_type": "execute_result"
    }
   ],
   "source": [
    "s=\"  \"\n",
    "len(s.replace(\" \",\"\"))"
   ]
  },
  {
   "cell_type": "code",
   "execution_count": 116,
   "id": "1886ca7c",
   "metadata": {},
   "outputs": [
    {
     "data": {
      "text/plain": [
       "'  '"
      ]
     },
     "execution_count": 116,
     "metadata": {},
     "output_type": "execute_result"
    }
   ],
   "source": [
    "s"
   ]
  },
  {
   "cell_type": "code",
   "execution_count": 1,
   "id": "7ac184a1",
   "metadata": {},
   "outputs": [
    {
     "data": {
      "text/plain": [
       "[1, 2]"
      ]
     },
     "execution_count": 1,
     "metadata": {},
     "output_type": "execute_result"
    }
   ],
   "source": [
    "a=[1,2,3]\n",
    "a[0:2]"
   ]
  },
  {
   "cell_type": "code",
   "execution_count": 2,
   "id": "f4ea9360",
   "metadata": {},
   "outputs": [
    {
     "data": {
      "text/plain": [
       "[2, 3]"
      ]
     },
     "execution_count": 2,
     "metadata": {},
     "output_type": "execute_result"
    }
   ],
   "source": [
    "a[1:3]"
   ]
  },
  {
   "cell_type": "code",
   "execution_count": 8,
   "id": "a6355473",
   "metadata": {},
   "outputs": [],
   "source": [
    "for i in range(0,0):\n",
    "    print(i)"
   ]
  },
  {
   "cell_type": "code",
   "execution_count": 9,
   "id": "a8f53b9d",
   "metadata": {},
   "outputs": [
    {
     "data": {
      "text/plain": [
       "'abc'"
      ]
     },
     "execution_count": 9,
     "metadata": {},
     "output_type": "execute_result"
    }
   ],
   "source": [
    "a=['abc','bcd','a']\n",
    "max(a,key=len)"
   ]
  },
  {
   "cell_type": "code",
   "execution_count": 11,
   "id": "072381cb",
   "metadata": {},
   "outputs": [
    {
     "data": {
      "text/plain": [
       "0"
      ]
     },
     "execution_count": 11,
     "metadata": {},
     "output_type": "execute_result"
    }
   ],
   "source": [
    "b=[]\n",
    "len(b)"
   ]
  },
  {
   "cell_type": "code",
   "execution_count": 12,
   "id": "6bbe9d75",
   "metadata": {},
   "outputs": [],
   "source": [
    "def longestPalindrome(s: str) -> str:\n",
    "        if(len(s)==1):\n",
    "            return s\n",
    "        else:\n",
    "            max_len=len(s)\n",
    "            all=[]\n",
    "            #储存所有的数\n",
    "            for i in range(2,max_len+1):\n",
    "                for j in range(0,max_len-i+1):\n",
    "                    all.append(s[j:j+i])\n",
    "            \n",
    "            #遍历储存好的数\n",
    "            right=[]\n",
    "            for i in all:\n",
    "                reverse=i[::-1]\n",
    "                if(reverse==i):\n",
    "                    right.append(i)\n",
    "            #意思是没有字符为两个以上的回文数\n",
    "            if(len(right)==0):\n",
    "                return s[0]\n",
    "            else:\n",
    "                return max(right,key=len)"
   ]
  },
  {
   "cell_type": "code",
   "execution_count": 17,
   "id": "6ed4abe4",
   "metadata": {},
   "outputs": [
    {
     "data": {
      "text/plain": [
       "'bbabb'"
      ]
     },
     "execution_count": 17,
     "metadata": {},
     "output_type": "execute_result"
    }
   ],
   "source": [
    "longestPalindrome(\"abbabb\")"
   ]
  },
  {
   "cell_type": "code",
   "execution_count": 36,
   "id": "e1fbfaf8",
   "metadata": {},
   "outputs": [],
   "source": [
    "#给定左右指针的位置，输出向左走向右走最大长度的回文数\n",
    "        #这里的函数起始要写self，因为这个函数在类内\n",
    "def helper(s,l,r):\n",
    "            #当s是偶数项时，假如l,l+1不等，也会输出两个数，但这种情况是不对的，在另一个函数中去排除\n",
    "    if(s[l]!=s[r]):\n",
    "        return s[l]\n",
    "    while l>=0 and r<=len(s)-1 and s[l]==s[r]:\n",
    "        \n",
    "        l=l-1\n",
    "        print(l)\n",
    "        r=r+1\n",
    "        print(r)\n",
    "    return s[l+1:r]\n",
    "        \n",
    "        \n",
    "        #类内使用成员函数也需要self去拿\n",
    "def longestPalindrome(s):\n",
    "            #假如s是奇数项\n",
    "    if(len(s)%2==1):\n",
    "        res=\"\"\n",
    "        for i in range(len(s)):\n",
    "            res=max(res,helper(s,i,i),key=len)\n",
    "        return res\n",
    "    else:\n",
    "        res=\"\"\n",
    "        #i+1最多为len-1,range右开，i最大取len-2\n",
    "        for i in range(len(s)-1):\n",
    "            res=max(res,helper(s,i,i+1),key=len)\n",
    "        return res\n",
    "\n",
    "                        "
   ]
  },
  {
   "cell_type": "code",
   "execution_count": 37,
   "id": "aea7480d",
   "metadata": {},
   "outputs": [
    {
     "name": "stdout",
     "output_type": "stream",
     "text": [
      "-1\n",
      "1\n"
     ]
    },
    {
     "data": {
      "text/plain": [
       "'a'"
      ]
     },
     "execution_count": 37,
     "metadata": {},
     "output_type": "execute_result"
    }
   ],
   "source": [
    "helper('aba',0,0)"
   ]
  },
  {
   "cell_type": "code",
   "execution_count": 43,
   "id": "be9c2e50",
   "metadata": {},
   "outputs": [
    {
     "data": {
      "text/plain": [
       "2134"
      ]
     },
     "execution_count": 43,
     "metadata": {},
     "output_type": "execute_result"
    }
   ],
   "source": [
    "a=431200\n",
    "b=str(a)\n",
    "c=b[::-1]\n",
    "int(c)"
   ]
  },
  {
   "cell_type": "code",
   "execution_count": 46,
   "id": "e613cba6",
   "metadata": {},
   "outputs": [
    {
     "data": {
      "text/plain": [
       "2147483648"
      ]
     },
     "execution_count": 46,
     "metadata": {},
     "output_type": "execute_result"
    }
   ],
   "source": [
    "2**31"
   ]
  },
  {
   "cell_type": "code",
   "execution_count": 47,
   "id": "8771bc94",
   "metadata": {},
   "outputs": [],
   "source": [
    "x=-123213\n",
    "string=str(x)[1:]\n"
   ]
  },
  {
   "cell_type": "code",
   "execution_count": 48,
   "id": "9d0325ba",
   "metadata": {},
   "outputs": [
    {
     "data": {
      "text/plain": [
       "'123213'"
      ]
     },
     "execution_count": 48,
     "metadata": {},
     "output_type": "execute_result"
    }
   ],
   "source": [
    "string"
   ]
  },
  {
   "cell_type": "code",
   "execution_count": 63,
   "id": "c66b41e4",
   "metadata": {},
   "outputs": [
    {
     "data": {
      "text/plain": [
       "[5, 4]"
      ]
     },
     "execution_count": 63,
     "metadata": {},
     "output_type": "execute_result"
    }
   ],
   "source": [
    "a=[4,5,6,7]\n",
    "a[1::-1]"
   ]
  },
  {
   "cell_type": "code",
   "execution_count": 51,
   "id": "5a8cf2f4",
   "metadata": {},
   "outputs": [
    {
     "data": {
      "text/plain": [
       "[7, 6, 5]"
      ]
     },
     "execution_count": 51,
     "metadata": {},
     "output_type": "execute_result"
    }
   ],
   "source": [
    "a[::-1]"
   ]
  },
  {
   "cell_type": "code",
   "execution_count": 56,
   "id": "b70b8d08",
   "metadata": {},
   "outputs": [
    {
     "data": {
      "text/plain": [
       "[5, 6, 7]"
      ]
     },
     "execution_count": 56,
     "metadata": {},
     "output_type": "execute_result"
    }
   ],
   "source": [
    "a"
   ]
  },
  {
   "cell_type": "code",
   "execution_count": 66,
   "id": "5c05f832",
   "metadata": {},
   "outputs": [
    {
     "data": {
      "text/plain": [
       "[7, 6, 5]"
      ]
     },
     "execution_count": 66,
     "metadata": {},
     "output_type": "execute_result"
    }
   ],
   "source": [
    "a[3::-1]"
   ]
  },
  {
   "cell_type": "code",
   "execution_count": 67,
   "id": "33111061",
   "metadata": {},
   "outputs": [],
   "source": [
    "a=[3,5,3]\n",
    "a.sort()"
   ]
  },
  {
   "cell_type": "code",
   "execution_count": 68,
   "id": "bd8dbf24",
   "metadata": {},
   "outputs": [
    {
     "data": {
      "text/plain": [
       "[3, 3, 5]"
      ]
     },
     "execution_count": 68,
     "metadata": {},
     "output_type": "execute_result"
    }
   ],
   "source": [
    "a"
   ]
  },
  {
   "cell_type": "code",
   "execution_count": 69,
   "id": "823b7c98",
   "metadata": {},
   "outputs": [],
   "source": [
    "def myFunc(e):\n",
    "  return e['year']\n",
    "\n",
    "cars = [\n",
    "  {'car': 'Ford', 'year': 2005},\n",
    "  {'car': 'Mitsubishi', 'year': 2000},\n",
    "  {'car': 'BMW', 'year': 2019},\n",
    "  {'car': 'VW', 'year': 2011}\n",
    "]\n",
    "\n",
    "cars.sort(key=myFunc)"
   ]
  },
  {
   "cell_type": "code",
   "execution_count": 70,
   "id": "e973b207",
   "metadata": {},
   "outputs": [
    {
     "data": {
      "text/plain": [
       "[{'car': 'Mitsubishi', 'year': 2000},\n",
       " {'car': 'Ford', 'year': 2005},\n",
       " {'car': 'VW', 'year': 2011},\n",
       " {'car': 'BMW', 'year': 2019}]"
      ]
     },
     "execution_count": 70,
     "metadata": {},
     "output_type": "execute_result"
    }
   ],
   "source": [
    "cars"
   ]
  },
  {
   "cell_type": "code",
   "execution_count": 1,
   "id": "72ca9636",
   "metadata": {},
   "outputs": [
    {
     "name": "stdout",
     "output_type": "stream",
     "text": [
      "0\n",
      "a\n",
      "1\n",
      "b\n",
      "2\n",
      "c\n"
     ]
    }
   ],
   "source": [
    "s=\"abc\"\n",
    "for i,j in enumerate(s):\n",
    "    print(i)\n",
    "    print(j)"
   ]
  },
  {
   "cell_type": "code",
   "execution_count": 2,
   "id": "5e4bffda",
   "metadata": {},
   "outputs": [
    {
     "name": "stdout",
     "output_type": "stream",
     "text": [
      "a\n",
      "b\n",
      "c\n"
     ]
    }
   ],
   "source": [
    "for i in s:\n",
    "    print(i)"
   ]
  },
  {
   "cell_type": "code",
   "execution_count": 5,
   "id": "dcf57a4e",
   "metadata": {},
   "outputs": [
    {
     "data": {
      "text/plain": [
       "False"
      ]
     },
     "execution_count": 5,
     "metadata": {},
     "output_type": "execute_result"
    }
   ],
   "source": [
    "s[0]  not in [\"a\",\"b\"]"
   ]
  },
  {
   "cell_type": "code",
   "execution_count": 50,
   "id": "91312856",
   "metadata": {},
   "outputs": [],
   "source": [
    "class Solution:\n",
    "    def myAtoi(self, s: str) -> int:\n",
    "        #排除空集和开头为非一般的条件\n",
    "        if(len(s)==0 or s[0] not in ['0','1','2','3','4','5','6','7','8','9','+','-',' ']):\n",
    "            return 0\n",
    "        \n",
    "        #得到前面space的最后一个位置\n",
    "        space_max_index=0\n",
    "        for i,j in enumerate(s):\n",
    "            print(j)\n",
    "            print(i)\n",
    "            print(type(j))\n",
    "            if i==\" \":\n",
    "                #排除只有space的string\n",
    "                if(i==len(s)-1):\n",
    "                    return 0\n",
    "                continue\n",
    "            elif j not in ['0','1','2','3','4','5','6','7','8','9','+','-']:\n",
    "                #print(j)\n",
    "                print(\"在这里\")\n",
    "                return 0\n",
    "            else:\n",
    "                space_max_index=i-1\n",
    "                break\n",
    "        print(space_max_index)\n",
    "                \n",
    "        #下面就到了真正拿数的时间\n",
    "        #重新创建s\n",
    "        s=s[space_max_index+1:]\n",
    "        symbol=1\n",
    "        num=\"\"\n",
    "        if(s[0]==\"+\"):\n",
    "            s=s[1:]\n",
    "        if(s[0]==\"-\"):\n",
    "            symbol=-1\n",
    "            s=s[1:]\n",
    "    \n",
    "        for i in s:\n",
    "            if(i in ['0','1','2','3','4','5','6','7','8','9']):\n",
    "                num=num+i\n",
    "            else:\n",
    "                break\n",
    "        #输出结果\n",
    "        print(num)\n",
    "        num=int(num)*symbol\n",
    "        print(num)\n",
    "        if(num<-2**31):\n",
    "            return -2**31\n",
    "        elif(num>2**31-1):\n",
    "            return 2**31-1\n",
    "        else:\n",
    "            return num\n",
    "            \n",
    "                \n",
    "        \n",
    "                "
   ]
  },
  {
   "cell_type": "code",
   "execution_count": 51,
   "id": "cbeaafc1",
   "metadata": {},
   "outputs": [
    {
     "name": "stdout",
     "output_type": "stream",
     "text": [
      " \n",
      "0\n",
      "<class 'str'>\n",
      "在这里\n"
     ]
    },
    {
     "data": {
      "text/plain": [
       "0"
      ]
     },
     "execution_count": 51,
     "metadata": {},
     "output_type": "execute_result"
    }
   ],
   "source": [
    "a=Solution()\n",
    "a.myAtoi(\"   -42\")"
   ]
  },
  {
   "cell_type": "code",
   "execution_count": 47,
   "id": "61e24df0",
   "metadata": {},
   "outputs": [
    {
     "name": "stdout",
     "output_type": "stream",
     "text": [
      "0\n",
      " \n",
      "<class 'str'>\n",
      "1\n",
      " \n",
      "<class 'str'>\n",
      "2\n",
      " \n",
      "<class 'str'>\n",
      "3\n",
      "-\n",
      "<class 'str'>\n",
      "4\n",
      "4\n",
      "<class 'str'>\n",
      "5\n",
      "2\n",
      "<class 'str'>\n"
     ]
    }
   ],
   "source": [
    "for i,j in enumerate(\"   -42\"):\n",
    "    print(i)\n",
    "    print(j)\n",
    "    print(type(j))"
   ]
  },
  {
   "cell_type": "code",
   "execution_count": 54,
   "id": "8920844e",
   "metadata": {},
   "outputs": [],
   "source": [
    "a='\\n '"
   ]
  },
  {
   "cell_type": "code",
   "execution_count": 55,
   "id": "b676f57e",
   "metadata": {},
   "outputs": [
    {
     "data": {
      "text/plain": [
       "'\\n '"
      ]
     },
     "execution_count": 55,
     "metadata": {},
     "output_type": "execute_result"
    }
   ],
   "source": [
    "a"
   ]
  },
  {
   "cell_type": "code",
   "execution_count": 57,
   "id": "6b585764",
   "metadata": {},
   "outputs": [
    {
     "ename": "SyntaxError",
     "evalue": "invalid syntax (Temp/ipykernel_42816/766305833.py, line 1)",
     "output_type": "error",
     "traceback": [
      "\u001b[1;36m  File \u001b[1;32m\"C:\\Users\\Heking\\AppData\\Local\\Temp/ipykernel_42816/766305833.py\"\u001b[1;36m, line \u001b[1;32m1\u001b[0m\n\u001b[1;33m    if a==\" \"\u001b[0m\n\u001b[1;37m             ^\u001b[0m\n\u001b[1;31mSyntaxError\u001b[0m\u001b[1;31m:\u001b[0m invalid syntax\n"
     ]
    }
   ],
   "source": [
    "if a==\"\""
   ]
  },
  {
   "cell_type": "code",
   "execution_count": 59,
   "id": "f212876e",
   "metadata": {},
   "outputs": [],
   "source": [
    "a=\" \"\n"
   ]
  },
  {
   "cell_type": "code",
   "execution_count": 60,
   "id": "7cda9ad6",
   "metadata": {},
   "outputs": [
    {
     "data": {
      "text/plain": [
       "' '"
      ]
     },
     "execution_count": 60,
     "metadata": {},
     "output_type": "execute_result"
    }
   ],
   "source": [
    "a"
   ]
  },
  {
   "cell_type": "code",
   "execution_count": 61,
   "id": "4155c16d",
   "metadata": {},
   "outputs": [
    {
     "ename": "SyntaxError",
     "evalue": "invalid syntax (Temp/ipykernel_42816/766305833.py, line 1)",
     "output_type": "error",
     "traceback": [
      "\u001b[1;36m  File \u001b[1;32m\"C:\\Users\\Heking\\AppData\\Local\\Temp/ipykernel_42816/766305833.py\"\u001b[1;36m, line \u001b[1;32m1\u001b[0m\n\u001b[1;33m    if a==\" \"\u001b[0m\n\u001b[1;37m             ^\u001b[0m\n\u001b[1;31mSyntaxError\u001b[0m\u001b[1;31m:\u001b[0m invalid syntax\n"
     ]
    }
   ],
   "source": [
    "if a==\" \""
   ]
  },
  {
   "cell_type": "code",
   "execution_count": 63,
   "id": "5c32da47",
   "metadata": {},
   "outputs": [
    {
     "data": {
      "text/plain": [
       "True"
      ]
     },
     "execution_count": 63,
     "metadata": {},
     "output_type": "execute_result"
    }
   ],
   "source": [
    "if(a.isspace()"
   ]
  },
  {
   "cell_type": "code",
   "execution_count": 68,
   "id": "e7e6bdec",
   "metadata": {},
   "outputs": [
    {
     "data": {
      "text/plain": [
       "32"
      ]
     },
     "execution_count": 68,
     "metadata": {},
     "output_type": "execute_result"
    }
   ],
   "source": [
    "a=\"  a265  32sfsh  \"\n",
    "ord(a[1])"
   ]
  },
  {
   "cell_type": "code",
   "execution_count": 65,
   "id": "956a018c",
   "metadata": {},
   "outputs": [
    {
     "data": {
      "text/plain": [
       "48"
      ]
     },
     "execution_count": 65,
     "metadata": {},
     "output_type": "execute_result"
    }
   ],
   "source": [
    "ord(\"0\")"
   ]
  },
  {
   "cell_type": "code",
   "execution_count": 69,
   "id": "aad7202d",
   "metadata": {},
   "outputs": [
    {
     "data": {
      "text/plain": [
       "'a265  32sfsh'"
      ]
     },
     "execution_count": 69,
     "metadata": {},
     "output_type": "execute_result"
    }
   ],
   "source": [
    "a.strip()"
   ]
  },
  {
   "cell_type": "code",
   "execution_count": 70,
   "id": "5a5ec1e2",
   "metadata": {},
   "outputs": [
    {
     "name": "stdout",
     "output_type": "stream",
     "text": [
      "0\n",
      "1\n",
      "1\n",
      "2\n",
      "2\n",
      "3\n"
     ]
    }
   ],
   "source": [
    "a=[1,2,3]\n",
    "for i,j in enumerate(a):\n",
    "    print(i)\n",
    "    print(j)"
   ]
  },
  {
   "cell_type": "code",
   "execution_count": 109,
   "id": "0c178eb9",
   "metadata": {},
   "outputs": [],
   "source": [
    "a=[[1,2,3],[1,2,3]]"
   ]
  },
  {
   "cell_type": "code",
   "execution_count": 113,
   "id": "af1e117e",
   "metadata": {},
   "outputs": [],
   "source": [
    "if [3,2,1] in a:\n",
    "    a.append([1,2,3]) "
   ]
  },
  {
   "cell_type": "code",
   "execution_count": 117,
   "id": "ef923740",
   "metadata": {},
   "outputs": [],
   "source": [
    "a=[4,1,2,3,3]\n",
    "a.sort()"
   ]
  },
  {
   "cell_type": "code",
   "execution_count": 121,
   "id": "7216c2aa",
   "metadata": {},
   "outputs": [],
   "source": [
    "a.append([3,2].sort())"
   ]
  },
  {
   "cell_type": "code",
   "execution_count": 122,
   "id": "8fbd216b",
   "metadata": {},
   "outputs": [
    {
     "data": {
      "text/plain": [
       "[1, 2, 3, 3, 4, None, None]"
      ]
     },
     "execution_count": 122,
     "metadata": {},
     "output_type": "execute_result"
    }
   ],
   "source": [
    "a"
   ]
  },
  {
   "cell_type": "code",
   "execution_count": 124,
   "id": "0b8c16c3",
   "metadata": {},
   "outputs": [
    {
     "data": {
      "text/plain": [
       "[1, 2, 3, 3, 4, None, None, [1, 2], [1, 2]]"
      ]
     },
     "execution_count": 124,
     "metadata": {},
     "output_type": "execute_result"
    }
   ],
   "source": [
    "a.append([1,2])\n",
    "a\n"
   ]
  },
  {
   "cell_type": "code",
   "execution_count": 126,
   "id": "faf8795e",
   "metadata": {},
   "outputs": [
    {
     "data": {
      "text/plain": [
       "[1, 2, 3, 3, 4, None, None, [1, 2], [1, 2], None, None]"
      ]
     },
     "execution_count": 126,
     "metadata": {},
     "output_type": "execute_result"
    }
   ],
   "source": [
    "a.append([3,2].sort())\n",
    "a"
   ]
  },
  {
   "cell_type": "code",
   "execution_count": 134,
   "id": "6faeb3d9",
   "metadata": {},
   "outputs": [],
   "source": [
    "a=[3,2]\n",
    "a.sort()"
   ]
  },
  {
   "cell_type": "code",
   "execution_count": 135,
   "id": "5e38bc8c",
   "metadata": {},
   "outputs": [],
   "source": [
    "a.append(a)"
   ]
  },
  {
   "cell_type": "code",
   "execution_count": 138,
   "id": "308bfbf8",
   "metadata": {},
   "outputs": [
    {
     "name": "stdout",
     "output_type": "stream",
     "text": [
      "[2, 3, [...]]\n"
     ]
    }
   ],
   "source": [
    "print(a)"
   ]
  },
  {
   "cell_type": "code",
   "execution_count": 79,
   "id": "b77de64a",
   "metadata": {},
   "outputs": [
    {
     "ename": "TypeError",
     "evalue": "unhashable type: 'list'",
     "output_type": "error",
     "traceback": [
      "\u001b[1;31m---------------------------------------------------------------------------\u001b[0m",
      "\u001b[1;31mTypeError\u001b[0m                                 Traceback (most recent call last)",
      "\u001b[1;32m~\\AppData\\Local\\Temp/ipykernel_42816/2926124575.py\u001b[0m in \u001b[0;36m<module>\u001b[1;34m\u001b[0m\n\u001b[1;32m----> 1\u001b[1;33m \u001b[1;33m[\u001b[0m\u001b[1;33m*\u001b[0m\u001b[0mset\u001b[0m\u001b[1;33m(\u001b[0m\u001b[0ma\u001b[0m\u001b[1;33m)\u001b[0m\u001b[1;33m]\u001b[0m\u001b[1;33m\u001b[0m\u001b[1;33m\u001b[0m\u001b[0m\n\u001b[0m",
      "\u001b[1;31mTypeError\u001b[0m: unhashable type: 'list'"
     ]
    }
   ],
   "source": [
    "[*set(a)]"
   ]
  },
  {
   "cell_type": "code",
   "execution_count": 76,
   "id": "2616001c",
   "metadata": {},
   "outputs": [],
   "source": [
    "b=[1,2,3,1]"
   ]
  },
  {
   "cell_type": "code",
   "execution_count": 77,
   "id": "7b557407",
   "metadata": {},
   "outputs": [
    {
     "data": {
      "text/plain": [
       "[1, 2, 3]"
      ]
     },
     "execution_count": 77,
     "metadata": {},
     "output_type": "execute_result"
    }
   ],
   "source": [
    "[*set(b)]"
   ]
  },
  {
   "cell_type": "code",
   "execution_count": 89,
   "id": "a16676e8",
   "metadata": {},
   "outputs": [],
   "source": [
    "res=[]\n",
    "res.append([1,2,3])"
   ]
  },
  {
   "cell_type": "code",
   "execution_count": 90,
   "id": "e70012ce",
   "metadata": {},
   "outputs": [],
   "source": [
    "a=[3,2,1]"
   ]
  },
  {
   "cell_type": "code",
   "execution_count": 87,
   "id": "ada96a3c",
   "metadata": {},
   "outputs": [],
   "source": [
    "res.append(a)"
   ]
  },
  {
   "cell_type": "code",
   "execution_count": 93,
   "id": "0449fdea",
   "metadata": {},
   "outputs": [],
   "source": [
    "if a in res:\n",
    "    print('yes')"
   ]
  },
  {
   "cell_type": "code",
   "execution_count": 155,
   "id": "9014a4b4",
   "metadata": {},
   "outputs": [],
   "source": [
    "a=[1,2,3,3]\n",
    "b=a\n",
    "b.remove(3)\n",
    "b.remove(2)"
   ]
  },
  {
   "cell_type": "code",
   "execution_count": 156,
   "id": "fc6ee873",
   "metadata": {},
   "outputs": [
    {
     "data": {
      "text/plain": [
       "[1, 3]"
      ]
     },
     "execution_count": 156,
     "metadata": {},
     "output_type": "execute_result"
    }
   ],
   "source": [
    "b"
   ]
  },
  {
   "cell_type": "code",
   "execution_count": 104,
   "id": "c5b75e97",
   "metadata": {},
   "outputs": [],
   "source": [
    "a.remove(2)"
   ]
  },
  {
   "cell_type": "code",
   "execution_count": 105,
   "id": "7ea2bbb2",
   "metadata": {},
   "outputs": [
    {
     "data": {
      "text/plain": [
       "[1, 3]"
      ]
     },
     "execution_count": 105,
     "metadata": {},
     "output_type": "execute_result"
    }
   ],
   "source": [
    "a"
   ]
  },
  {
   "cell_type": "code",
   "execution_count": 144,
   "id": "c476dac1",
   "metadata": {},
   "outputs": [],
   "source": [
    "a=[]\n",
    "b=[3,2,4]\n",
    "b.sort()\n",
    "a.append(b)"
   ]
  },
  {
   "cell_type": "code",
   "execution_count": 145,
   "id": "a596e22f",
   "metadata": {},
   "outputs": [
    {
     "data": {
      "text/plain": [
       "[[2, 3, 4]]"
      ]
     },
     "execution_count": 145,
     "metadata": {},
     "output_type": "execute_result"
    }
   ],
   "source": [
    "a"
   ]
  },
  {
   "cell_type": "code",
   "execution_count": 143,
   "id": "fdda2651",
   "metadata": {},
   "outputs": [
    {
     "data": {
      "text/plain": [
       "[2, 3, 4]"
      ]
     },
     "execution_count": 143,
     "metadata": {},
     "output_type": "execute_result"
    }
   ],
   "source": [
    "b"
   ]
  },
  {
   "cell_type": "code",
   "execution_count": 215,
   "id": "e798fd20",
   "metadata": {},
   "outputs": [],
   "source": [
    "class Solution:\n",
    "    def threeSum(self, nums: List[int]) -> List[List[int]]:\n",
    "        l=len(nums)\n",
    "        out=[]\n",
    "\n",
    "        for m,i in enumerate(nums):\n",
    "            if m==l-1:\n",
    "                break            \n",
    "            for n,j in enumerate(nums[m+1:]):\n",
    "                k=-(i+j)\n",
    "                #无重复和前两个\n",
    "                lis=nums.copy()\n",
    "                del lis[m]\n",
    "                del lis[m+n]\n",
    "                if(k in lis):\n",
    "                    s=[i,j,k]\n",
    "                    s.sort()\n",
    "                    if s not in out:\n",
    "                        out.append(s)\n",
    "        return out\n",
    "                    "
   ]
  },
  {
   "cell_type": "code",
   "execution_count": 216,
   "id": "b1823df4",
   "metadata": {},
   "outputs": [
    {
     "data": {
      "text/plain": [
       "[[-2, -1, 3], [-2, 0, 2], [-1, 0, 1]]"
      ]
     },
     "execution_count": 216,
     "metadata": {},
     "output_type": "execute_result"
    }
   ],
   "source": [
    "a=Solution()\n",
    "a.threeSum([3,0,-2,-1,1,2])"
   ]
  },
  {
   "cell_type": "code",
   "execution_count": 163,
   "id": "3c389b27",
   "metadata": {},
   "outputs": [],
   "source": [
    "b=[2,3,43,54,65,34]"
   ]
  },
  {
   "cell_type": "code",
   "execution_count": 164,
   "id": "6d9888ca",
   "metadata": {},
   "outputs": [
    {
     "name": "stdout",
     "output_type": "stream",
     "text": [
      "0\n",
      "2\n",
      "1\n",
      "3\n",
      "2\n",
      "43\n",
      "3\n",
      "54\n",
      "4\n",
      "65\n",
      "5\n",
      "34\n"
     ]
    }
   ],
   "source": [
    "for i,j in enumerate(b):\n",
    "    print(i)\n",
    "    print(j)\n"
   ]
  },
  {
   "cell_type": "code",
   "execution_count": 165,
   "id": "362fd8d6",
   "metadata": {},
   "outputs": [],
   "source": [
    "c=b\n",
    "c.remove(3)\n",
    "c.remove(2)"
   ]
  },
  {
   "cell_type": "code",
   "execution_count": 166,
   "id": "e8af8f76",
   "metadata": {},
   "outputs": [
    {
     "data": {
      "text/plain": [
       "[43, 54, 65, 34]"
      ]
     },
     "execution_count": 166,
     "metadata": {},
     "output_type": "execute_result"
    }
   ],
   "source": [
    "c"
   ]
  },
  {
   "cell_type": "code",
   "execution_count": 187,
   "id": "a72367af",
   "metadata": {},
   "outputs": [],
   "source": [
    "a=[0,0,0]\n",
    "a.sort()"
   ]
  },
  {
   "cell_type": "code",
   "execution_count": 188,
   "id": "71e54f3b",
   "metadata": {},
   "outputs": [
    {
     "data": {
      "text/plain": [
       "[0, 0, 0]"
      ]
     },
     "execution_count": 188,
     "metadata": {},
     "output_type": "execute_result"
    }
   ],
   "source": [
    "a"
   ]
  },
  {
   "cell_type": "code",
   "execution_count": 189,
   "id": "1df9bf90",
   "metadata": {},
   "outputs": [],
   "source": [
    "a.remove(0)"
   ]
  },
  {
   "cell_type": "code",
   "execution_count": 190,
   "id": "a22b5351",
   "metadata": {},
   "outputs": [
    {
     "data": {
      "text/plain": [
       "[0, 0]"
      ]
     },
     "execution_count": 190,
     "metadata": {},
     "output_type": "execute_result"
    }
   ],
   "source": [
    "a"
   ]
  },
  {
   "cell_type": "code",
   "execution_count": 191,
   "id": "f18d82f3",
   "metadata": {},
   "outputs": [],
   "source": [
    "a.remove(0)"
   ]
  },
  {
   "cell_type": "code",
   "execution_count": 192,
   "id": "ca1259d5",
   "metadata": {},
   "outputs": [
    {
     "data": {
      "text/plain": [
       "[0]"
      ]
     },
     "execution_count": 192,
     "metadata": {},
     "output_type": "execute_result"
    }
   ],
   "source": [
    "a"
   ]
  },
  {
   "cell_type": "code",
   "execution_count": 193,
   "id": "01b1f629",
   "metadata": {},
   "outputs": [
    {
     "name": "stdout",
     "output_type": "stream",
     "text": [
      "ys\n"
     ]
    }
   ],
   "source": [
    "if 0 in a:\n",
    "    print('ys')"
   ]
  },
  {
   "cell_type": "code",
   "execution_count": 212,
   "id": "8ac40b42",
   "metadata": {},
   "outputs": [
    {
     "data": {
      "text/plain": [
       "[1, 2, 3, 4]"
      ]
     },
     "execution_count": 212,
     "metadata": {},
     "output_type": "execute_result"
    }
   ],
   "source": [
    "num=[1,2,3,4]\n",
    "lim=[]\n",
    "lim=num.copy()\n",
    "del lim[2]\n",
    "num"
   ]
  },
  {
   "cell_type": "code",
   "execution_count": 209,
   "id": "8ee90363",
   "metadata": {},
   "outputs": [
    {
     "data": {
      "text/plain": [
       "[2, 3, 4]"
      ]
     },
     "execution_count": 209,
     "metadata": {},
     "output_type": "execute_result"
    }
   ],
   "source": [
    "num"
   ]
  },
  {
   "cell_type": "code",
   "execution_count": 217,
   "id": "279efbc7",
   "metadata": {},
   "outputs": [
    {
     "data": {
      "text/plain": [
       "[1, 2]"
      ]
     },
     "execution_count": 217,
     "metadata": {},
     "output_type": "execute_result"
    }
   ],
   "source": [
    "num=[1,2,3,4]\n",
    "num[:-2]"
   ]
  },
  {
   "cell_type": "code",
   "execution_count": 227,
   "id": "7d07096d",
   "metadata": {},
   "outputs": [],
   "source": [
    "class Solution:\n",
    "    def letterCombinations(self, digits: str) -> List[str]:\n",
    "        \"\"\"\n",
    "        :type digits: str\n",
    "        :rtype: List[str]\n",
    "        \"\"\"\n",
    "        map_ = {\n",
    "            '2' : 'abc',\n",
    "            '3' : 'def',\n",
    "            '4' : 'ghi',\n",
    "            '5' : 'jkl',\n",
    "            '6' : 'mno',\n",
    "            '7' : 'pqrs',\n",
    "            '8' : 'tuv',\n",
    "            '9' : 'wxyz'\n",
    "        }\n",
    "        result = []\n",
    "        \n",
    "        def make_combinations(i, cur):\n",
    "            if i == len(digits):\n",
    "                if len(cur) > 0:\n",
    "                    result.append(''.join(cur))\n",
    "                    \n",
    "                return None\n",
    "            for ch in map_[digits[i]]:\n",
    "                cur.append(ch)\n",
    "                make_combinations(i+1, cur)\n",
    "                cur.pop()\n",
    "            \n",
    "        \n",
    "        make_combinations(0, [])\n",
    "        \n",
    "        return result\n",
    "        "
   ]
  },
  {
   "cell_type": "code",
   "execution_count": 228,
   "id": "a60ecc9a",
   "metadata": {},
   "outputs": [
    {
     "data": {
      "text/plain": [
       "['ad', 'ae', 'af', 'bd', 'be', 'bf', 'cd', 'ce', 'cf']"
      ]
     },
     "execution_count": 228,
     "metadata": {},
     "output_type": "execute_result"
    }
   ],
   "source": [
    "a=Solution()\n",
    "a.letterCombinations('23')"
   ]
  },
  {
   "cell_type": "code",
   "execution_count": 231,
   "id": "621dcee6",
   "metadata": {},
   "outputs": [],
   "source": [
    "# Definition for singly-linked list.\n",
    "class ListNode:\n",
    "    def __init__(self, val=0, next=None):\n",
    "        \n",
    "        self.val = val\n",
    "        self.next = next\n",
    "class Solution:\n",
    "    def removeNthFromEnd(self, head: [ListNode], n: int) -> [ListNode]:\n",
    "        #拿到nodes的总个数\n",
    "        l=0\n",
    "        while(head):\n",
    "            l+=1\n",
    "            head=head.next\n",
    "        #创建新node和root,用while赋值\n",
    "        root=a=ListNode(0)\n",
    "        stop=l-n+1\n",
    "        count=1\n",
    "        while(head):\n",
    "            if(count==stop):\n",
    "                head=head.next\n",
    "                continue\n",
    "            val=head.val\n",
    "            print(val)\n",
    "            a.next=ListNode(val)\n",
    "            a=a.next\n",
    "            head=head.next\n",
    "            count=count+1\n",
    "        return root.next\n",
    "        "
   ]
  },
  {
   "cell_type": "code",
   "execution_count": 232,
   "id": "b03033b1",
   "metadata": {},
   "outputs": [],
   "source": [
    "a=ListNode(1)\n",
    "a.next=ListNode(2)\n"
   ]
  },
  {
   "cell_type": "code",
   "execution_count": 234,
   "id": "a809db2f",
   "metadata": {},
   "outputs": [],
   "source": [
    "b=Solution()\n",
    "b.removeNthFromEnd(a,1)"
   ]
  },
  {
   "cell_type": "code",
   "execution_count": 235,
   "id": "401a4ab2",
   "metadata": {},
   "outputs": [],
   "source": [
    "for i in range(0):\n",
    "    print(i)"
   ]
  },
  {
   "cell_type": "code",
   "execution_count": 240,
   "id": "823a8425",
   "metadata": {},
   "outputs": [],
   "source": [
    "class Solution:\n",
    "    def removeDuplicates(self, nums: List[int]) -> int:\n",
    "        out=[]\n",
    "        for i in nums:\n",
    "            if i not in out:\n",
    "                out.append(i)\n",
    "            else:\n",
    "                continue\n",
    "        out.sort()\n",
    "        print(out)\n",
    "        return len(out)\n",
    "        "
   ]
  },
  {
   "cell_type": "code",
   "execution_count": 241,
   "id": "ac480a12",
   "metadata": {},
   "outputs": [
    {
     "name": "stdout",
     "output_type": "stream",
     "text": [
      "[1, 2]\n"
     ]
    },
    {
     "data": {
      "text/plain": [
       "2"
      ]
     },
     "execution_count": 241,
     "metadata": {},
     "output_type": "execute_result"
    }
   ],
   "source": [
    "a=Solution()\n",
    "a.removeDuplicates([1,1,2])"
   ]
  },
  {
   "cell_type": "code",
   "execution_count": 243,
   "id": "9a620a8f",
   "metadata": {},
   "outputs": [],
   "source": [
    "nums=[1,2,3,4,5,6,8]\n",
    "out=[3,2,1]\n",
    "nums[:len(out)]=out"
   ]
  },
  {
   "cell_type": "code",
   "execution_count": 244,
   "id": "477d7eb0",
   "metadata": {},
   "outputs": [
    {
     "data": {
      "text/plain": [
       "[3, 2, 1, 4, 5, 6, 8]"
      ]
     },
     "execution_count": 244,
     "metadata": {},
     "output_type": "execute_result"
    }
   ],
   "source": [
    "nums"
   ]
  },
  {
   "cell_type": "code",
   "execution_count": 245,
   "id": "30c77cf3",
   "metadata": {},
   "outputs": [
    {
     "name": "stdout",
     "output_type": "stream",
     "text": [
      "s\n",
      "h\n",
      "f\n",
      "s\n",
      "b\n"
     ]
    }
   ],
   "source": [
    "s=\"shfsb\"\n",
    "for i in s:\n",
    "    print(i)"
   ]
  },
  {
   "cell_type": "code",
   "execution_count": 246,
   "id": "62125abb",
   "metadata": {},
   "outputs": [
    {
     "data": {
      "text/plain": [
       "'hfsb'"
      ]
     },
     "execution_count": 246,
     "metadata": {},
     "output_type": "execute_result"
    }
   ],
   "source": [
    "s[1:5]"
   ]
  },
  {
   "cell_type": "code",
   "execution_count": 247,
   "id": "d4edd68e",
   "metadata": {},
   "outputs": [
    {
     "data": {
      "text/plain": [
       "3"
      ]
     },
     "execution_count": 247,
     "metadata": {},
     "output_type": "execute_result"
    }
   ],
   "source": [
    "int(3.3)"
   ]
  },
  {
   "cell_type": "code",
   "execution_count": 248,
   "id": "12d0804d",
   "metadata": {},
   "outputs": [
    {
     "data": {
      "text/plain": [
       "3"
      ]
     },
     "execution_count": 248,
     "metadata": {},
     "output_type": "execute_result"
    }
   ],
   "source": [
    "int(3.8)"
   ]
  },
  {
   "cell_type": "code",
   "execution_count": 250,
   "id": "621d09f7",
   "metadata": {},
   "outputs": [
    {
     "data": {
      "text/plain": [
       "-2"
      ]
     },
     "execution_count": 250,
     "metadata": {},
     "output_type": "execute_result"
    }
   ],
   "source": [
    "int(-2.3)"
   ]
  },
  {
   "cell_type": "code",
   "execution_count": 251,
   "id": "761e8840",
   "metadata": {},
   "outputs": [
    {
     "data": {
      "text/plain": [
       "-2"
      ]
     },
     "execution_count": 251,
     "metadata": {},
     "output_type": "execute_result"
    }
   ],
   "source": [
    "int(-2.9)"
   ]
  },
  {
   "cell_type": "code",
   "execution_count": 253,
   "id": "1c4259dc",
   "metadata": {},
   "outputs": [
    {
     "name": "stderr",
     "output_type": "stream",
     "text": [
      "<>:3: SyntaxWarning: \"is\" with a literal. Did you mean \"==\"?\n",
      "<>:3: SyntaxWarning: \"is\" with a literal. Did you mean \"==\"?\n",
      "C:\\Users\\Heking\\AppData\\Local\\Temp/ipykernel_42816/4257193676.py:3: SyntaxWarning: \"is\" with a literal. Did you mean \"==\"?\n",
      "  a<0 is b<0\n"
     ]
    },
    {
     "data": {
      "text/plain": [
       "False"
      ]
     },
     "execution_count": 253,
     "metadata": {},
     "output_type": "execute_result"
    }
   ],
   "source": [
    "a=-1\n",
    "b=1\n",
    "a<0 is b<0"
   ]
  },
  {
   "cell_type": "code",
   "execution_count": 254,
   "id": "ed172dc1",
   "metadata": {},
   "outputs": [
    {
     "data": {
      "text/plain": [
       "2"
      ]
     },
     "execution_count": 254,
     "metadata": {},
     "output_type": "execute_result"
    }
   ],
   "source": [
    "i=1\n",
    "i<<1"
   ]
  },
  {
   "cell_type": "code",
   "execution_count": 6,
   "id": "1e76676b",
   "metadata": {},
   "outputs": [
    {
     "name": "stdout",
     "output_type": "stream",
     "text": [
      "1\n",
      "2\n",
      "3\n"
     ]
    }
   ],
   "source": [
    "a=[1,2,3]\n",
    "for i in a:\n",
    "    if(i==1):\n",
    "        pass\n",
    "    if(i>0):\n",
    "        print(i)\n"
   ]
  },
  {
   "cell_type": "code",
   "execution_count": 7,
   "id": "49ecc557",
   "metadata": {},
   "outputs": [
    {
     "name": "stdout",
     "output_type": "stream",
     "text": [
      "0\n",
      "3\n",
      "6\n"
     ]
    }
   ],
   "source": [
    "for i in range(0,9,3):\n",
    "    print(i)"
   ]
  },
  {
   "cell_type": "code",
   "execution_count": 2,
   "id": "5aa7bdbc",
   "metadata": {},
   "outputs": [],
   "source": [
    "a=[\"sdsf\"]\n",
    "a.append(\"2\")"
   ]
  },
  {
   "cell_type": "code",
   "execution_count": 3,
   "id": "4427d5ea",
   "metadata": {},
   "outputs": [
    {
     "data": {
      "text/plain": [
       "['sdsf', '2']"
      ]
     },
     "execution_count": 3,
     "metadata": {},
     "output_type": "execute_result"
    }
   ],
   "source": [
    "a"
   ]
  },
  {
   "cell_type": "code",
   "execution_count": 4,
   "id": "70ada5f3",
   "metadata": {},
   "outputs": [
    {
     "data": {
      "text/plain": [
       "'sdsf2'"
      ]
     },
     "execution_count": 4,
     "metadata": {},
     "output_type": "execute_result"
    }
   ],
   "source": [
    "\"\".join(a)"
   ]
  },
  {
   "cell_type": "code",
   "execution_count": 5,
   "id": "eed1abfd",
   "metadata": {},
   "outputs": [
    {
     "data": {
      "text/plain": [
       "'fbjd2'"
      ]
     },
     "execution_count": 5,
     "metadata": {},
     "output_type": "execute_result"
    }
   ],
   "source": [
    "a=\"fbjd\"\n",
    "a+str(2)"
   ]
  },
  {
   "cell_type": "code",
   "execution_count": 7,
   "id": "8db55638",
   "metadata": {},
   "outputs": [
    {
     "data": {
      "text/plain": [
       "6"
      ]
     },
     "execution_count": 7,
     "metadata": {},
     "output_type": "execute_result"
    }
   ],
   "source": [
    "a=[1,2,3\n",
    "  ]\n",
    "sum(a)"
   ]
  },
  {
   "cell_type": "code",
   "execution_count": 8,
   "id": "b9fea175",
   "metadata": {},
   "outputs": [],
   "source": [
    "a=[[1, \"no\"], [2, \"yes\"], [3, \"no\"], [4, \"no\"], [5, \"no\"], [6, \"no\"], [7, \"no\"], [8, \"no\"], [9, \"no\"], [10, \"yes\"], [11, \"no\"], [12, \"no\"], [13, \"yes\"], [14, \"no\"], [15, \"no\"], [16, \"no\"], [17, \"no\"], [18, \"no\"], [19, \"no\"], [20, \"yes\"], [21, \"no\"], [22, \"no\"], [23, \"no\"], [24, \"no\"], [25, \"no\"], [26, \"no\"], [27, \"no\"], [28, \"no\"], [29, \"no\"], [30, \"no\"], [31, \"no\"], [32, \"no\"], [33, \"no\"], [34, \"no\"], [35, \"no\"], [36, \"no\"], [37, \"no\"], [38, \"no\"], [39, \"no\"], [40, \"no\"], [41, \"no\"], [42, \"yes\"], [43, \"no\"], [44, \"no\"], [45, \"no\"], [46, \"no\"], [47, \"no\"], [48, \"no\"], [49, \"no\"], [50, \"no\"], [51, \"no\"], [52, \"no\"], [53, \"no\"], [54, \"no\"], [55, \"no\"], [56, \"no\"], [57, \"no\"], [58, \"no\"], [59, \"no\"], [60, \"no\"], [61, \"no\"], [62, \"no\"], [63, \"no\"], [64, \"no\"], [65, \"no\"], [66, \"no\"], [67, \"no\"], [68, \"no\"], [69, \"no\"], [70, \"yes\"], [71, \"no\"], [72, \"no\"], [73, \"no\"], [74, \"no\"], [75, \"no\"], [76, \"no\"], [77, \"no\"], [78, \"no\"], [79, \"no\"], [80, \"no\"], [81, \"no\"], [82, \"no\"], [83, \"no\"], [84, \"no\"], [85, \"no\"], [86, \"no\"], [87, \"no\"], [88, \"no\"], [89, \"no\"], [90, \"no\"], [91, \"no\"], [92, \"no\"], [93, \"no\"], [94, \"no\"], [95, \"no\"], [96, \"no\"], [97, \"no\"], [98, \"yes\"], [99, \"no\"], [100, \"no\"], [101, \"no\"], [102, \"no\"], [103, \"no\"], [104, \"no\"], [105, \"no\"], [106, \"no\"], [107, \"no\"], [108, \"no\"], [109, \"no\"], [110, \"no\"], [111, \"no\"], [112, \"no\"], [113, \"no\"], [114, \"no\"], [115, \"no\"], [116, \"no\"], [117, \"yes\"], [118, \"no\"], [119, \"no\"], [120, \"no\"], [121, \"no\"], [122, \"no\"], [123, \"no\"], [124, \"no\"], [125, \"no\"], [126, \"yes\"], [127, \"no\"], [128, \"no\"], [129, \"no\"], [130, \"no\"], [131, \"no\"], [132, \"no\"], [133, \"no\"], [134, \"no\"], [135, \"no\"], [136, \"no\"], [137, \"no\"], [138, \"no\"], [139, \"no\"], [140, \"no\"], [141, \"no\"], [142, \"no\"], [143, \"no\"], [144, \"no\"], [145, \"no\"], [146, \"no\"], [147, \"no\"], [148, \"no\"], [149, \"no\"], [150, \"no\"], [151, \"yes\"], [152, \"no\"], [153, \"no\"], [154, \"no\"], [156, \"no\"], [157, \"no\"], [158, \"no\"], [159, \"no\"], [160, \"no\"], [161, \"yes\"], [162, \"no\"], [163, \"no\"], [164, \"no\"], [165, \"no\"], [166, \"no\"], [167, \"no\"], [168, \"no\"], [169, \"no\"], [170, \"no\"], [171, \"no\"], [172, \"no\"], [173, \"no\"], [174, \"no\"], [175, \"no\"], [176, \"no\"], [177, \"no\"], [178, \"no\"], [179, \"no\"], [180, \"no\"], [181, \"no\"], [182, \"no\"], [183, \"no\"], [184, \"no\"], [185, \"no\"], [186, \"no\"], [187, \"no\"], [188, \"yes\"], [189, \"no\"], [190, \"no\"], [191, \"no\"], [192, \"yes\"], [193, \"no\"], [194, \"no\"], [195, \"no\"], [196, \"yes\"], [197, \"no\"], [198, \"no\"], [199, \"no\"], [200, \"no\"]]"
   ]
  },
  {
   "cell_type": "code",
   "execution_count": 9,
   "id": "0dd43086",
   "metadata": {},
   "outputs": [],
   "source": [
    "b=[[1, \"no\"], [2, \"yes\"], [3, \"no\"], [4, \"no\"], [5, \"no\"], [6, \"no\"], [7, \"no\"], [8, \"no\"], [9, \"no\"], [10, \"yes\"], [11, \"no\"], [12, \"no\"], [13, \"yes\"], [14, \"no\"], [15, \"no\"], [16, \"no\"], [17, \"no\"], [18, \"no\"], [19, \"no\"], [20, \"yes\"], [21, \"no\"], [22, \"no\"], [23, \"no\"], [24, \"no\"], [25, \"no\"], [26, \"no\"], [27, \"no\"], [28, \"no\"], [29, \"no\"], [30, \"no\"], [31, \"no\"], [32, \"no\"], [33, \"no\"], [34, \"no\"], [35, \"no\"], [36, \"no\"], [37, \"no\"], [38, \"no\"], [39, \"no\"], [40, \"no\"], [41, \"no\"], [42, \"yes\"], [43, \"no\"], [44, \"no\"], [45, \"no\"], [46, \"no\"], [47, \"no\"], [48, \"no\"], [49, \"no\"], [50, \"no\"], [51, \"no\"], [52, \"no\"], [53, \"no\"], [54, \"no\"], [55, \"no\"], [56, \"no\"], [57, \"no\"], [58, \"no\"], [59, \"no\"], [60, \"no\"], [61, \"no\"], [62, \"no\"], [63, \"no\"], [64, \"no\"], [65, \"no\"], [66, \"no\"], [67, \"no\"], [68, \"no\"], [69, \"no\"], [70, \"yes\"], [71, \"no\"], [72, \"no\"], [73, \"no\"], [74, \"no\"], [75, \"no\"], [76, \"no\"], [77, \"no\"], [78, \"no\"], [79, \"no\"], [80, \"no\"], [81, \"no\"], [82, \"no\"], [83, \"no\"], [84, \"no\"], [85, \"no\"], [86, \"no\"], [87, \"no\"], [88, \"no\"], [89, \"no\"], [90, \"no\"], [91, \"no\"], [92, \"no\"], [93, \"no\"], [94, \"no\"], [95, \"no\"], [96, \"no\"], [97, \"no\"], [98, \"yes\"], [99, \"no\"], [100, \"no\"], [101, \"no\"], [102, \"no\"], [103, \"no\"], [104, \"no\"], [105, \"no\"], [106, \"no\"], [107, \"no\"], [108, \"no\"], [109, \"no\"], [110, \"no\"], [111, \"no\"], [112, \"no\"], [113, \"no\"], [114, \"no\"], [115, \"no\"], [116, \"no\"], [117, \"yes\"], [118, \"no\"], [119, \"no\"], [120, \"no\"], [121, \"no\"], [122, \"no\"], [123, \"no\"], [124, \"no\"], [125, \"no\"], [126, \"yes\"], [127, \"no\"], [128, \"no\"], [129, \"no\"], [130, \"no\"], [131, \"no\"], [132, \"no\"], [133, \"no\"], [134, \"no\"], [135, \"no\"], [136, \"no\"], [137, \"no\"], [138, \"no\"], [139, \"no\"], [140, \"no\"], [141, \"no\"], [142, \"no\"], [143, \"no\"], [144, \"no\"], [145, \"no\"], [146, \"no\"], [147, \"no\"], [148, \"no\"], [149, \"no\"], [150, \"no\"], [151, \"yes\"], [152, \"no\"], [153, \"no\"], [154, \"no\"], [155, \"no\"], [156, \"no\"], [157, \"no\"], [158, \"no\"], [159, \"no\"], [160, \"no\"], [161, \"yes\"], [162, \"no\"], [163, \"no\"], [164, \"no\"], [165, \"no\"], [166, \"no\"], [167, \"no\"], [168, \"no\"], [169, \"no\"], [170, \"no\"], [171, \"no\"], [172, \"no\"], [173, \"no\"], [174, \"no\"], [175, \"no\"], [176, \"no\"], [177, \"no\"], [178, \"no\"], [179, \"no\"], [180, \"no\"], [181, \"no\"], [182, \"no\"], [183, \"no\"], [184, \"no\"], [185, \"no\"], [186, \"no\"], [187, \"no\"], [188, \"yes\"], [189, \"no\"], [190, \"no\"], [191, \"no\"], [192, \"yes\"], [193, \"no\"], [194, \"no\"], [195, \"no\"], [196, \"yes\"], [197, \"no\"], [198, \"no\"], [199, \"no\"], [200, \"no\"]]"
   ]
  },
  {
   "cell_type": "code",
   "execution_count": 13,
   "id": "2cc6e176",
   "metadata": {},
   "outputs": [
    {
     "data": {
      "text/plain": [
       "2"
      ]
     },
     "execution_count": 13,
     "metadata": {},
     "output_type": "execute_result"
    }
   ],
   "source": [
    "a[1][0]"
   ]
  },
  {
   "cell_type": "code",
   "execution_count": 10,
   "id": "d57631a3",
   "metadata": {},
   "outputs": [
    {
     "data": {
      "text/plain": [
       "199"
      ]
     },
     "execution_count": 10,
     "metadata": {},
     "output_type": "execute_result"
    }
   ],
   "source": [
    "len(a)"
   ]
  },
  {
   "cell_type": "code",
   "execution_count": 11,
   "id": "e8acc714",
   "metadata": {},
   "outputs": [
    {
     "data": {
      "text/plain": [
       "200"
      ]
     },
     "execution_count": 11,
     "metadata": {},
     "output_type": "execute_result"
    }
   ],
   "source": [
    "len(b)"
   ]
  },
  {
   "cell_type": "code",
   "execution_count": 14,
   "id": "0d4a4131",
   "metadata": {},
   "outputs": [
    {
     "name": "stdout",
     "output_type": "stream",
     "text": [
      "[156, 'no']\n",
      "[155, 'no']\n"
     ]
    }
   ],
   "source": [
    "for i in range(len(b)):\n",
    "    if(a[i][0]!=b[i][0]):\n",
    "        print(a[i])\n",
    "        print(b[i])\n",
    "        break"
   ]
  },
  {
   "cell_type": "code",
   "execution_count": 1,
   "id": "da08361b",
   "metadata": {},
   "outputs": [],
   "source": [
    "def firstMissingPositive(nums):\n",
    "    \"\"\"\n",
    "    :type nums: List[int]\n",
    "    :rtype: int\n",
    "     Basic idea:\n",
    "    1. for any array whose length is l, the first missing positive must be in range [1,...,l+1], \n",
    "        so we only have to care about those elements in this range and remove the rest.\n",
    "    2. we can use the array index as the hash to restore the frequency of each number within \n",
    "         the range [1,...,l+1] \n",
    "    \"\"\"\n",
    "    nums.append(0)\n",
    "    n = len(nums)\n",
    "    for i in range(len(nums)): #delete those useless elements\n",
    "        if nums[i]<0 or nums[i]>=n:\n",
    "            nums[i]=0\n",
    "    for i in range(len(nums)): #use the index as the hash to record the frequency of each number\n",
    "        nums[nums[i]%n]+=n\n",
    "    for i in range(1,len(nums)):\n",
    "        if nums[i]/n==0:\n",
    "            return i\n",
    "    return n"
   ]
  },
  {
   "cell_type": "code",
   "execution_count": 2,
   "id": "45d6bf59",
   "metadata": {},
   "outputs": [
    {
     "data": {
      "text/plain": [
       "5"
      ]
     },
     "execution_count": 2,
     "metadata": {},
     "output_type": "execute_result"
    }
   ],
   "source": [
    "l=[1, 1, 1, 2, 2]\n",
    "firstMissingPositive(l)"
   ]
  },
  {
   "cell_type": "code",
   "execution_count": 1,
   "id": "7e87ef17",
   "metadata": {},
   "outputs": [
    {
     "data": {
      "text/plain": [
       "10"
      ]
     },
     "execution_count": 1,
     "metadata": {},
     "output_type": "execute_result"
    }
   ],
   "source": [
    "a=[1,2,3,4]\n",
    "sum(a)"
   ]
  },
  {
   "cell_type": "code",
   "execution_count": 5,
   "id": "8f02b079",
   "metadata": {},
   "outputs": [
    {
     "ename": "SyntaxError",
     "evalue": "invalid syntax (Temp/ipykernel_19932/3213413182.py, line 2)",
     "output_type": "error",
     "traceback": [
      "\u001b[1;36m  File \u001b[1;32m\"C:\\Users\\Heking\\AppData\\Local\\Temp/ipykernel_19932/3213413182.py\"\u001b[1;36m, line \u001b[1;32m2\u001b[0m\n\u001b[1;33m    if(b=2):\u001b[0m\n\u001b[1;37m        ^\u001b[0m\n\u001b[1;31mSyntaxError\u001b[0m\u001b[1;31m:\u001b[0m invalid syntax\n"
     ]
    }
   ],
   "source": [
    "b=2\n",
    "if(b=2):\n",
    "    print(1)"
   ]
  },
  {
   "cell_type": "code",
   "execution_count": 6,
   "id": "b747f44a",
   "metadata": {},
   "outputs": [],
   "source": [
    "def isIsomorphic(s: str, t: str) -> bool:\n",
    "    a={}\n",
    "    l=len(s)\n",
    "    for i in range(l):\n",
    "        if(s[i] not in a.keys()):\n",
    "            a[s[i]]=t[i]\n",
    "            print(a)\n",
    "        else:\n",
    "            if(s[i]==t[i]):\n",
    "                print(a)\n",
    "                continue\n",
    "            else:\n",
    "                print(a)\n",
    "                return False\n",
    "    return True"
   ]
  },
  {
   "cell_type": "code",
   "execution_count": 7,
   "id": "7039cebe",
   "metadata": {},
   "outputs": [
    {
     "name": "stdout",
     "output_type": "stream",
     "text": [
      "{'e': 'a'}\n",
      "{'e': 'a', 'g': 'd'}\n",
      "{'e': 'a', 'g': 'd'}\n"
     ]
    },
    {
     "data": {
      "text/plain": [
       "False"
      ]
     },
     "execution_count": 7,
     "metadata": {},
     "output_type": "execute_result"
    }
   ],
   "source": [
    "s=\"egg\"\n",
    "t=\"add\"\n",
    "isIsomorphic(s,t)"
   ]
  },
  {
   "cell_type": "code",
   "execution_count": 7,
   "id": "abae6dc8",
   "metadata": {},
   "outputs": [],
   "source": [
    "a=[1,2,3]\n",
    "a=a.reverse()"
   ]
  },
  {
   "cell_type": "code",
   "execution_count": 8,
   "id": "90c7df73",
   "metadata": {},
   "outputs": [],
   "source": [
    "a"
   ]
  },
  {
   "cell_type": "code",
   "execution_count": 1,
   "id": "0504e741",
   "metadata": {},
   "outputs": [],
   "source": [
    "a=[]\n",
    "b=None\n",
    "a.append(b)"
   ]
  },
  {
   "cell_type": "code",
   "execution_count": 2,
   "id": "39f24cde",
   "metadata": {},
   "outputs": [
    {
     "data": {
      "text/plain": [
       "[None]"
      ]
     },
     "execution_count": 2,
     "metadata": {},
     "output_type": "execute_result"
    }
   ],
   "source": [
    "a\n"
   ]
  },
  {
   "cell_type": "code",
   "execution_count": null,
   "id": "b47f8637",
   "metadata": {},
   "outputs": [],
   "source": []
  }
 ],
 "metadata": {
  "kernelspec": {
   "display_name": "Python 3 (ipykernel)",
   "language": "python",
   "name": "python3"
  },
  "language_info": {
   "codemirror_mode": {
    "name": "ipython",
    "version": 3
   },
   "file_extension": ".py",
   "mimetype": "text/x-python",
   "name": "python",
   "nbconvert_exporter": "python",
   "pygments_lexer": "ipython3",
   "version": "3.9.7"
  }
 },
 "nbformat": 4,
 "nbformat_minor": 5
}
